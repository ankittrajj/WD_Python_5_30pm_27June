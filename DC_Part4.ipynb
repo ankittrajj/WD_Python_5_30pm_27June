{
 "cells": [
  {
   "cell_type": "code",
   "execution_count": 1,
   "id": "da313061",
   "metadata": {},
   "outputs": [],
   "source": [
    "#wap to add data to a tuple."
   ]
  },
  {
   "cell_type": "code",
   "execution_count": 2,
   "id": "d78f9801",
   "metadata": {},
   "outputs": [],
   "source": [
    "x = (1,2,3,4)"
   ]
  },
  {
   "cell_type": "code",
   "execution_count": 3,
   "id": "4448018c",
   "metadata": {},
   "outputs": [
    {
     "name": "stdout",
     "output_type": "stream",
     "text": [
      "(1, 2, 3, 4)\n"
     ]
    }
   ],
   "source": [
    "print(x)"
   ]
  },
  {
   "cell_type": "code",
   "execution_count": 4,
   "id": "f457a7e6",
   "metadata": {},
   "outputs": [
    {
     "data": {
      "text/plain": [
       "tuple"
      ]
     },
     "execution_count": 4,
     "metadata": {},
     "output_type": "execute_result"
    }
   ],
   "source": [
    "type(x)"
   ]
  },
  {
   "cell_type": "code",
   "execution_count": 5,
   "id": "debbec13",
   "metadata": {},
   "outputs": [
    {
     "ename": "TypeError",
     "evalue": "'tuple' object does not support item assignment",
     "output_type": "error",
     "traceback": [
      "\u001b[1;31m---------------------------------------------------------------------------\u001b[0m",
      "\u001b[1;31mTypeError\u001b[0m                                 Traceback (most recent call last)",
      "\u001b[1;32m~\\AppData\\Local\\Temp/ipykernel_11460/934969451.py\u001b[0m in \u001b[0;36m<module>\u001b[1;34m\u001b[0m\n\u001b[1;32m----> 1\u001b[1;33m \u001b[0mx\u001b[0m\u001b[1;33m[\u001b[0m\u001b[1;36m0\u001b[0m\u001b[1;33m]\u001b[0m\u001b[1;33m=\u001b[0m\u001b[1;36m100\u001b[0m\u001b[1;33m\u001b[0m\u001b[1;33m\u001b[0m\u001b[0m\n\u001b[0m",
      "\u001b[1;31mTypeError\u001b[0m: 'tuple' object does not support item assignment"
     ]
    }
   ],
   "source": [
    "x[0]=100"
   ]
  },
  {
   "cell_type": "code",
   "execution_count": 7,
   "id": "82cf0fc1",
   "metadata": {},
   "outputs": [],
   "source": [
    "y = list(x)"
   ]
  },
  {
   "cell_type": "code",
   "execution_count": 8,
   "id": "dce1c6f3",
   "metadata": {},
   "outputs": [
    {
     "name": "stdout",
     "output_type": "stream",
     "text": [
      "[1, 2, 3, 4]\n"
     ]
    }
   ],
   "source": [
    "print(y)"
   ]
  },
  {
   "cell_type": "code",
   "execution_count": 9,
   "id": "0b22b4c6",
   "metadata": {},
   "outputs": [],
   "source": [
    "y.append('data')"
   ]
  },
  {
   "cell_type": "code",
   "execution_count": 10,
   "id": "2f95f51e",
   "metadata": {},
   "outputs": [
    {
     "data": {
      "text/plain": [
       "[1, 2, 3, 4, 'data']"
      ]
     },
     "execution_count": 10,
     "metadata": {},
     "output_type": "execute_result"
    }
   ],
   "source": [
    "y"
   ]
  },
  {
   "cell_type": "code",
   "execution_count": 13,
   "id": "07209e01",
   "metadata": {},
   "outputs": [],
   "source": [
    "z = tuple(y)"
   ]
  },
  {
   "cell_type": "code",
   "execution_count": 14,
   "id": "e9de94e5",
   "metadata": {},
   "outputs": [
    {
     "name": "stdout",
     "output_type": "stream",
     "text": [
      "(1, 2, 3, 4, 'data')\n"
     ]
    }
   ],
   "source": [
    "print(z)"
   ]
  },
  {
   "cell_type": "code",
   "execution_count": 15,
   "id": "c73fd0b1",
   "metadata": {},
   "outputs": [
    {
     "data": {
      "text/plain": [
       "tuple"
      ]
     },
     "execution_count": 15,
     "metadata": {},
     "output_type": "execute_result"
    }
   ],
   "source": [
    "type(z)"
   ]
  },
  {
   "cell_type": "code",
   "execution_count": 16,
   "id": "262b2a63",
   "metadata": {},
   "outputs": [
    {
     "data": {
      "text/plain": [
       "(5, 7, 9, 4, 3, 2, 1)"
      ]
     },
     "execution_count": 16,
     "metadata": {},
     "output_type": "execute_result"
    }
   ],
   "source": [
    "# 8.Write a Python program to find the index of an \n",
    "# item of a tuple.\n",
    "\n",
    "# 9.Write a Python program to reverse a tuple.\n",
    "\n",
    "# 10.Write a Python program calculate the product, \n",
    "# multiplying all the numbers of a given tuple. \n",
    "# Original Tuple:\n",
    "# (4, 3, 2, 2, -1, 18)\n",
    "\n",
    "\n",
    "x = (1,2,3,4,9,7,5)\n",
    "x[::-1]"
   ]
  },
  {
   "cell_type": "code",
   "execution_count": 18,
   "id": "63b3e544",
   "metadata": {},
   "outputs": [],
   "source": [
    "x = list(x)"
   ]
  },
  {
   "cell_type": "code",
   "execution_count": 19,
   "id": "336cb648",
   "metadata": {},
   "outputs": [
    {
     "data": {
      "text/plain": [
       "[1, 2, 3, 4, 9, 7, 5]"
      ]
     },
     "execution_count": 19,
     "metadata": {},
     "output_type": "execute_result"
    }
   ],
   "source": [
    "x"
   ]
  },
  {
   "cell_type": "code",
   "execution_count": 20,
   "id": "06b39d75",
   "metadata": {},
   "outputs": [],
   "source": [
    "x.reverse()"
   ]
  },
  {
   "cell_type": "code",
   "execution_count": 21,
   "id": "0a26bc7a",
   "metadata": {},
   "outputs": [
    {
     "data": {
      "text/plain": [
       "[5, 7, 9, 4, 3, 2, 1]"
      ]
     },
     "execution_count": 21,
     "metadata": {},
     "output_type": "execute_result"
    }
   ],
   "source": [
    "x"
   ]
  },
  {
   "cell_type": "code",
   "execution_count": 22,
   "id": "b576dc68",
   "metadata": {},
   "outputs": [],
   "source": [
    "x = tuple(x)"
   ]
  },
  {
   "cell_type": "code",
   "execution_count": 23,
   "id": "1d4d4621",
   "metadata": {},
   "outputs": [
    {
     "data": {
      "text/plain": [
       "(5, 7, 9, 4, 3, 2, 1)"
      ]
     },
     "execution_count": 23,
     "metadata": {},
     "output_type": "execute_result"
    }
   ],
   "source": [
    "x"
   ]
  },
  {
   "cell_type": "code",
   "execution_count": 34,
   "id": "f38475e8",
   "metadata": {},
   "outputs": [
    {
     "name": "stdout",
     "output_type": "stream",
     "text": [
      "8\n",
      "6\n",
      "4\n",
      "4\n",
      "-2\n",
      "36\n"
     ]
    }
   ],
   "source": [
    "x = (4, 3, 2, 2, -1, 18)\n",
    "y = 2\n",
    "for i in x:\n",
    "    x = i*y\n",
    "    print(x)"
   ]
  },
  {
   "cell_type": "code",
   "execution_count": 35,
   "id": "4785b6ed",
   "metadata": {},
   "outputs": [
    {
     "name": "stdout",
     "output_type": "stream",
     "text": [
      "8\n",
      "6\n",
      "4\n",
      "4\n",
      "-2\n",
      "36\n"
     ]
    }
   ],
   "source": [
    "x = (4, 3, 2, 2, -1, 18)\n",
    "y = 2\n",
    "for i in x:\n",
    "    print(y*i)"
   ]
  },
  {
   "cell_type": "markdown",
   "id": "3850d537",
   "metadata": {},
   "source": [
    "# DICT"
   ]
  },
  {
   "cell_type": "code",
   "execution_count": 55,
   "id": "1c1f27b2",
   "metadata": {},
   "outputs": [
    {
     "name": "stdout",
     "output_type": "stream",
     "text": [
      "{'name': ['Neha', 'Priya', 'Priyanka', 'Kirti'], 'age': (90, 91, 92, 93), 'marks': (1, 2, 45, 99)}\n"
     ]
    }
   ],
   "source": [
    "x = {\n",
    "    'name':['Neha','Priya','Priyanka','Kirti'],\n",
    "    'age':(90,91,92,93),\n",
    "    'marks':(1,2,45,99)\n",
    "}\n",
    "print(x)"
   ]
  },
  {
   "cell_type": "code",
   "execution_count": 37,
   "id": "fd423b8d",
   "metadata": {},
   "outputs": [
    {
     "data": {
      "text/plain": [
       "dict"
      ]
     },
     "execution_count": 37,
     "metadata": {},
     "output_type": "execute_result"
    }
   ],
   "source": [
    "type(x)"
   ]
  },
  {
   "cell_type": "code",
   "execution_count": 38,
   "id": "c5364397",
   "metadata": {},
   "outputs": [
    {
     "data": {
      "text/plain": [
       "{'name': 'Neha', 'age': 90, 'marks': 99}"
      ]
     },
     "execution_count": 38,
     "metadata": {},
     "output_type": "execute_result"
    }
   ],
   "source": [
    "x"
   ]
  },
  {
   "cell_type": "code",
   "execution_count": 39,
   "id": "e5e9127c",
   "metadata": {},
   "outputs": [
    {
     "data": {
      "text/plain": [
       "'Neha'"
      ]
     },
     "execution_count": 39,
     "metadata": {},
     "output_type": "execute_result"
    }
   ],
   "source": [
    "x['name']"
   ]
  },
  {
   "cell_type": "code",
   "execution_count": 46,
   "id": "9f0545a5",
   "metadata": {},
   "outputs": [
    {
     "data": {
      "text/plain": [
       "'Priya'"
      ]
     },
     "execution_count": 46,
     "metadata": {},
     "output_type": "execute_result"
    }
   ],
   "source": [
    "x['name'][1]"
   ]
  },
  {
   "cell_type": "code",
   "execution_count": 47,
   "id": "a0c88161",
   "metadata": {},
   "outputs": [
    {
     "data": {
      "text/plain": [
       "91"
      ]
     },
     "execution_count": 47,
     "metadata": {},
     "output_type": "execute_result"
    }
   ],
   "source": [
    "x['age'][1]"
   ]
  },
  {
   "cell_type": "code",
   "execution_count": 48,
   "id": "88777726",
   "metadata": {},
   "outputs": [],
   "source": [
    "# unindexed\n",
    "# ordered\n",
    "# a kind of slicing is possible but not with index.\n",
    "# mutable\n",
    "\n",
    "x = {\n",
    "    'a':23\n",
    "}"
   ]
  },
  {
   "cell_type": "code",
   "execution_count": 49,
   "id": "3fa130d1",
   "metadata": {},
   "outputs": [
    {
     "data": {
      "text/plain": [
       "dict"
      ]
     },
     "execution_count": 49,
     "metadata": {},
     "output_type": "execute_result"
    }
   ],
   "source": [
    "type(x)"
   ]
  },
  {
   "cell_type": "code",
   "execution_count": 52,
   "id": "fb385955",
   "metadata": {},
   "outputs": [],
   "source": [
    "x['a']= 100"
   ]
  },
  {
   "cell_type": "code",
   "execution_count": 53,
   "id": "f4623350",
   "metadata": {},
   "outputs": [
    {
     "data": {
      "text/plain": [
       "{'a': 100}"
      ]
     },
     "execution_count": 53,
     "metadata": {},
     "output_type": "execute_result"
    }
   ],
   "source": [
    "x"
   ]
  },
  {
   "cell_type": "code",
   "execution_count": 54,
   "id": "8bf6bc6c",
   "metadata": {},
   "outputs": [
    {
     "data": {
      "text/plain": [
       "{'a': 100}"
      ]
     },
     "execution_count": 54,
     "metadata": {},
     "output_type": "execute_result"
    }
   ],
   "source": [
    "x"
   ]
  },
  {
   "cell_type": "code",
   "execution_count": 56,
   "id": "db9595d8",
   "metadata": {},
   "outputs": [
    {
     "data": {
      "text/plain": [
       "{'name': ['Neha', 'Priya', 'Priyanka', 'Kirti'],\n",
       " 'age': (90, 91, 92, 93),\n",
       " 'marks': (1, 2, 45, 99)}"
      ]
     },
     "execution_count": 56,
     "metadata": {},
     "output_type": "execute_result"
    }
   ],
   "source": [
    "x"
   ]
  },
  {
   "cell_type": "code",
   "execution_count": 60,
   "id": "a8ef5ceb",
   "metadata": {},
   "outputs": [],
   "source": [
    "x = {'name': ['Neha', ('Priya', 'Priyanka'), 'Kirti'],\n",
    " 'age': (90, 91, 92, 93),\n",
    " 'marks': (1, 2, 45, 99)}"
   ]
  },
  {
   "cell_type": "code",
   "execution_count": 63,
   "id": "7c4baa3b",
   "metadata": {},
   "outputs": [
    {
     "data": {
      "text/plain": [
       "'Priyanka'"
      ]
     },
     "execution_count": 63,
     "metadata": {},
     "output_type": "execute_result"
    }
   ],
   "source": [
    "x['name'][1][1]"
   ]
  },
  {
   "cell_type": "code",
   "execution_count": 65,
   "id": "62ba0e5b",
   "metadata": {},
   "outputs": [
    {
     "data": {
      "text/plain": [
       "{'name': ['Neha', ('Priya', 'Priyanka'), 'Kirti'],\n",
       " 'age': (90, 91, 92, 93),\n",
       " 'marks': (1, 2, 45, 99)}"
      ]
     },
     "execution_count": 65,
     "metadata": {},
     "output_type": "execute_result"
    }
   ],
   "source": [
    "x"
   ]
  },
  {
   "cell_type": "code",
   "execution_count": 82,
   "id": "92c042a4",
   "metadata": {},
   "outputs": [],
   "source": [
    "x = {\n",
    "    'name':'A',\n",
    "    'age':23,\n",
    "    0:1,\n",
    "    0:\"1\",\n",
    "    0:\"python\",\n",
    "    '0':'hello',\n",
    "    1.8:0,\n",
    "    1:'0'\n",
    "}"
   ]
  },
  {
   "cell_type": "code",
   "execution_count": 83,
   "id": "c093cc7f",
   "metadata": {},
   "outputs": [
    {
     "data": {
      "text/plain": [
       "{'name': 'A', 'age': 23, 0: 'python', '0': 'hello', 1.8: 0, 1: '0'}"
      ]
     },
     "execution_count": 83,
     "metadata": {},
     "output_type": "execute_result"
    }
   ],
   "source": [
    "x"
   ]
  },
  {
   "cell_type": "code",
   "execution_count": 86,
   "id": "d260c2de",
   "metadata": {},
   "outputs": [],
   "source": [
    "#wap to make dict inside a dict.\n",
    "\n",
    "a = {\n",
    "    1:0,\n",
    "    2:1,\n",
    "    3:2,\n",
    "    \n",
    "    'b':{\n",
    "        'name':123,\n",
    "        'salary':890\n",
    "    }\n",
    "}"
   ]
  },
  {
   "cell_type": "code",
   "execution_count": 87,
   "id": "ec85d40b",
   "metadata": {},
   "outputs": [
    {
     "data": {
      "text/plain": [
       "dict"
      ]
     },
     "execution_count": 87,
     "metadata": {},
     "output_type": "execute_result"
    }
   ],
   "source": [
    "type(a)"
   ]
  },
  {
   "cell_type": "code",
   "execution_count": 89,
   "id": "8242ffb2",
   "metadata": {},
   "outputs": [],
   "source": [
    "#wap to slice salary from above data/dict.a"
   ]
  },
  {
   "cell_type": "code",
   "execution_count": 93,
   "id": "030e4bb7",
   "metadata": {},
   "outputs": [
    {
     "data": {
      "text/plain": [
       "890"
      ]
     },
     "execution_count": 93,
     "metadata": {},
     "output_type": "execute_result"
    }
   ],
   "source": [
    "a['b']['salary']"
   ]
  },
  {
   "cell_type": "code",
   "execution_count": null,
   "id": "c8deeb87",
   "metadata": {},
   "outputs": [],
   "source": []
  }
 ],
 "metadata": {
  "kernelspec": {
   "display_name": "Python 3 (ipykernel)",
   "language": "python",
   "name": "python3"
  },
  "language_info": {
   "codemirror_mode": {
    "name": "ipython",
    "version": 3
   },
   "file_extension": ".py",
   "mimetype": "text/x-python",
   "name": "python",
   "nbconvert_exporter": "python",
   "pygments_lexer": "ipython3",
   "version": "3.9.7"
  }
 },
 "nbformat": 4,
 "nbformat_minor": 5
}
