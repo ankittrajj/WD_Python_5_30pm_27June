{
 "cells": [
  {
   "cell_type": "code",
   "execution_count": 3,
   "id": "437f0f9b",
   "metadata": {},
   "outputs": [
    {
     "data": {
      "text/plain": [
       "14.666666666666666"
      ]
     },
     "execution_count": 3,
     "metadata": {},
     "output_type": "execute_result"
    }
   ],
   "source": [
    "#wap to find the average marks of a student in 3 subjects using inheritance.\n",
    "# and for finding the avg marks make a function for avg marks and try to get \n",
    "# the output of the code .\n",
    "\n",
    "\n",
    "class student:\n",
    "    def __init__(self,a,b):\n",
    "        self.a = a\n",
    "        self.b = b\n",
    "        \n",
    "class student2(student):\n",
    "    def __init__(self,a,b,c):\n",
    "        super().__init__(a,b)\n",
    "        self.c=c\n",
    "        \n",
    "    \n",
    "    def avrg(self):\n",
    "        avg = (self.a+self.b+self.c)/3\n",
    "        return avg\n",
    "\n",
    "        \n",
    "        \n",
    "s = student2(23,21,0)\n",
    "s.avrg()"
   ]
  },
  {
   "cell_type": "markdown",
   "id": "fe7a76bc",
   "metadata": {},
   "source": [
    "# Multilevel Inheritance "
   ]
  },
  {
   "cell_type": "code",
   "execution_count": 4,
   "id": "1d05efee",
   "metadata": {},
   "outputs": [
    {
     "data": {
      "text/plain": [
       "'John'"
      ]
     },
     "execution_count": 4,
     "metadata": {},
     "output_type": "execute_result"
    }
   ],
   "source": [
    "# 1. gpc to pc \n",
    "class gpc:\n",
    "    def __init__(self,emp_name):\n",
    "        self.emp_name = emp_name\n",
    "        \n",
    "    \n",
    "class pc(gpc):\n",
    "    def __init__(self,emp_name,age):\n",
    "        super().__init__(emp_name)\n",
    "        self.age = age\n",
    "        \n",
    "\n",
    "class cc:\n",
    "    def __init__(self,sal):\n",
    "        self.sal = sal\n",
    "        \n",
    "        \n",
    "\n",
    "p = pc(\"John\",45)\n",
    "p.emp_name"
   ]
  },
  {
   "cell_type": "code",
   "execution_count": 6,
   "id": "75fa1cb3",
   "metadata": {},
   "outputs": [
    {
     "data": {
      "text/plain": [
       "45"
      ]
     },
     "execution_count": 6,
     "metadata": {},
     "output_type": "execute_result"
    }
   ],
   "source": [
    "p.age"
   ]
  },
  {
   "cell_type": "code",
   "execution_count": 7,
   "id": "47d33d3a",
   "metadata": {},
   "outputs": [
    {
     "data": {
      "text/plain": [
       "45"
      ]
     },
     "execution_count": 7,
     "metadata": {},
     "output_type": "execute_result"
    }
   ],
   "source": [
    "# pc to child\n",
    "class gpc:\n",
    "    def __init__(self,emp_name):\n",
    "        self.emp_name = emp_name\n",
    "        \n",
    "    \n",
    "class pc:\n",
    "    def __init__(self,age):\n",
    "#         super().__init__(emp_name)\n",
    "        self.age = age\n",
    "        \n",
    "\n",
    "class cc(pc):\n",
    "    def __init__(self,age,sal):\n",
    "        super().__init__(age)\n",
    "        self.sal = sal\n",
    "        \n",
    "        \n",
    "\n",
    "p = cc(45,78000)\n",
    "p.age"
   ]
  },
  {
   "cell_type": "code",
   "execution_count": 8,
   "id": "473913cd",
   "metadata": {},
   "outputs": [
    {
     "data": {
      "text/plain": [
       "78000"
      ]
     },
     "execution_count": 8,
     "metadata": {},
     "output_type": "execute_result"
    }
   ],
   "source": [
    "p.sal"
   ]
  },
  {
   "cell_type": "code",
   "execution_count": 10,
   "id": "149c23ee",
   "metadata": {},
   "outputs": [
    {
     "data": {
      "text/plain": [
       "'John'"
      ]
     },
     "execution_count": 10,
     "metadata": {},
     "output_type": "execute_result"
    }
   ],
   "source": [
    "# gpc to cc\n",
    "class gpc:\n",
    "    def __init__(self,emp_name):\n",
    "        self.emp_name = emp_name\n",
    "        \n",
    "    \n",
    "class pc:\n",
    "    def __init__(self,age):\n",
    "#         super().__init__(emp_name)\n",
    "        self.age = age\n",
    "        \n",
    "\n",
    "class cc(gpc):\n",
    "    def __init__(self,emp_name,sal):\n",
    "        super().__init__(emp_name)\n",
    "        self.sal = sal\n",
    "        \n",
    "        \n",
    "\n",
    "p = cc(\"John\",45)\n",
    "p.emp_name"
   ]
  },
  {
   "cell_type": "code",
   "execution_count": 11,
   "id": "610445d8",
   "metadata": {},
   "outputs": [
    {
     "data": {
      "text/plain": [
       "45"
      ]
     },
     "execution_count": 11,
     "metadata": {},
     "output_type": "execute_result"
    }
   ],
   "source": [
    "p.sal"
   ]
  },
  {
   "cell_type": "code",
   "execution_count": 12,
   "id": "6f9cf994",
   "metadata": {},
   "outputs": [
    {
     "data": {
      "text/plain": [
       "'John'"
      ]
     },
     "execution_count": 12,
     "metadata": {},
     "output_type": "execute_result"
    }
   ],
   "source": [
    "# gpc to pc to child\n",
    "\n",
    "class gpc:\n",
    "    def __init__(self,emp_name):\n",
    "        self.emp_name = emp_name\n",
    "        \n",
    "    \n",
    "class pc(gpc):\n",
    "    def __init__(self,emp_name,age):\n",
    "        super().__init__(emp_name)\n",
    "        self.age = age\n",
    "        \n",
    "\n",
    "class cc(pc):\n",
    "    def __init__(self,emp_name,age,sal):\n",
    "        super().__init__(emp_name,age)\n",
    "        self.sal = sal\n",
    "        \n",
    "        \n",
    "\n",
    "p = cc(\"John\",45,200000)\n",
    "p.emp_name"
   ]
  },
  {
   "cell_type": "code",
   "execution_count": 13,
   "id": "11fbffce",
   "metadata": {},
   "outputs": [
    {
     "data": {
      "text/plain": [
       "45"
      ]
     },
     "execution_count": 13,
     "metadata": {},
     "output_type": "execute_result"
    }
   ],
   "source": [
    "p.age"
   ]
  },
  {
   "cell_type": "code",
   "execution_count": 14,
   "id": "0c3d2f2c",
   "metadata": {},
   "outputs": [
    {
     "data": {
      "text/plain": [
       "200000"
      ]
     },
     "execution_count": 14,
     "metadata": {},
     "output_type": "execute_result"
    }
   ],
   "source": [
    "p.sal"
   ]
  },
  {
   "cell_type": "code",
   "execution_count": null,
   "id": "ec05aeba",
   "metadata": {},
   "outputs": [],
   "source": [
    "#wap to find the salary of the engineer and a doctor but there is \n",
    "# a simple condition  for their salaries\n",
    "# conditions are\n",
    "# if a engineer take holidays more than 12 in a year then there will be a\n",
    "# deduction  of 12% of salary and if doc takes same amount of holiday\n",
    "# there is no deduction at all.\n",
    "# but a doc salary is deducted by 2% if he takes holiday on sundays.\n",
    "# now the salary of engineer is 5lpa while salary of doc is 6lpa\n",
    "#  find the salary after deduction using oops concept."
   ]
  }
 ],
 "metadata": {
  "kernelspec": {
   "display_name": "Python 3 (ipykernel)",
   "language": "python",
   "name": "python3"
  },
  "language_info": {
   "codemirror_mode": {
    "name": "ipython",
    "version": 3
   },
   "file_extension": ".py",
   "mimetype": "text/x-python",
   "name": "python",
   "nbconvert_exporter": "python",
   "pygments_lexer": "ipython3",
   "version": "3.9.7"
  }
 },
 "nbformat": 4,
 "nbformat_minor": 5
}
