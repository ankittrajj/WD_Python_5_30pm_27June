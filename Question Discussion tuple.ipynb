{
 "cells": [
  {
   "cell_type": "code",
   "execution_count": 1,
   "id": "3949d7a8",
   "metadata": {},
   "outputs": [],
   "source": [
    "# 4.\n",
    "\n",
    "z = (1,2,3,4)\n",
    "y = list(z)"
   ]
  },
  {
   "cell_type": "code",
   "execution_count": 3,
   "id": "a16243f2",
   "metadata": {},
   "outputs": [],
   "source": [
    "y.append('123')"
   ]
  },
  {
   "cell_type": "code",
   "execution_count": 4,
   "id": "2ba82739",
   "metadata": {},
   "outputs": [
    {
     "data": {
      "text/plain": [
       "[1, 2, 3, 4, '123']"
      ]
     },
     "execution_count": 4,
     "metadata": {},
     "output_type": "execute_result"
    }
   ],
   "source": [
    "y"
   ]
  },
  {
   "cell_type": "code",
   "execution_count": 5,
   "id": "4d98729b",
   "metadata": {},
   "outputs": [],
   "source": [
    "x = tuple(y)"
   ]
  },
  {
   "cell_type": "code",
   "execution_count": 6,
   "id": "84495bf2",
   "metadata": {},
   "outputs": [
    {
     "data": {
      "text/plain": [
       "(1, 2, 3, 4, '123')"
      ]
     },
     "execution_count": 6,
     "metadata": {},
     "output_type": "execute_result"
    }
   ],
   "source": [
    "x"
   ]
  },
  {
   "cell_type": "code",
   "execution_count": 9,
   "id": "c5b3b505",
   "metadata": {},
   "outputs": [],
   "source": [
    "x = ('hello',)\n",
    "y = str(x)"
   ]
  },
  {
   "cell_type": "code",
   "execution_count": 10,
   "id": "b4712786",
   "metadata": {},
   "outputs": [
    {
     "data": {
      "text/plain": [
       "\"('hello',)\""
      ]
     },
     "execution_count": 10,
     "metadata": {},
     "output_type": "execute_result"
    }
   ],
   "source": [
    "y "
   ]
  },
  {
   "cell_type": "code",
   "execution_count": 11,
   "id": "1971613d",
   "metadata": {},
   "outputs": [
    {
     "data": {
      "text/plain": [
       "str"
      ]
     },
     "execution_count": 11,
     "metadata": {},
     "output_type": "execute_result"
    }
   ],
   "source": [
    "type(y)"
   ]
  },
  {
   "cell_type": "code",
   "execution_count": 15,
   "id": "b25e63c1",
   "metadata": {},
   "outputs": [
    {
     "name": "stdout",
     "output_type": "stream",
     "text": [
      "div\n",
      "div\n",
      "div\n",
      "div\n",
      "ND\n"
     ]
    }
   ],
   "source": [
    "x=[(45,90,75,60,77)]\n",
    "k = 5\n",
    "for i in x:\n",
    "    for j in i:\n",
    "        if j%k == 0:\n",
    "            print(\"div\")\n",
    "        else:\n",
    "            print(\"ND\")"
   ]
  },
  {
   "cell_type": "code",
   "execution_count": 26,
   "id": "ce5bbaa5",
   "metadata": {},
   "outputs": [
    {
     "name": "stdout",
     "output_type": "stream",
     "text": [
      "no similar data\n",
      "no similar data\n",
      "no similar data\n",
      "no similar data\n",
      "no similar data\n",
      "no similar data\n",
      "similar 2 2\n",
      "no similar data\n",
      "no similar data\n",
      "no similar data\n",
      "no similar data\n",
      "no similar data\n",
      "no similar data\n",
      "no similar data\n",
      "no similar data\n",
      "no similar data\n",
      "no similar data\n",
      "no similar data\n",
      "no similar data\n",
      "no similar data\n"
     ]
    }
   ],
   "source": [
    "x = [1,2,3,4,8]\n",
    "y = [45,78,2,90]\n",
    "\n",
    "for i in x:\n",
    "    for j in y:\n",
    "        if i == j:\n",
    "            print('similar',i,j)\n",
    "        else:\n",
    "            print(\"no similar data\")\n"
   ]
  },
  {
   "cell_type": "code",
   "execution_count": null,
   "id": "34b64dcf",
   "metadata": {},
   "outputs": [],
   "source": []
  }
 ],
 "metadata": {
  "kernelspec": {
   "display_name": "Python 3 (ipykernel)",
   "language": "python",
   "name": "python3"
  },
  "language_info": {
   "codemirror_mode": {
    "name": "ipython",
    "version": 3
   },
   "file_extension": ".py",
   "mimetype": "text/x-python",
   "name": "python",
   "nbconvert_exporter": "python",
   "pygments_lexer": "ipython3",
   "version": "3.9.7"
  }
 },
 "nbformat": 4,
 "nbformat_minor": 5
}
