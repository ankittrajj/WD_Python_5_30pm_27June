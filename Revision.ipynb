{
 "cells": [
  {
   "cell_type": "code",
   "execution_count": 20,
   "id": "a9b5968d",
   "metadata": {},
   "outputs": [
    {
     "name": "stdout",
     "output_type": "stream",
     "text": [
      "prime number\n"
     ]
    }
   ],
   "source": [
    "num = 47\n",
    "if num>1:\n",
    "    for i in range(2,num):\n",
    "        if num%i==0:\n",
    "            print(\"not prime number\")\n",
    "            break\n",
    "    else:\n",
    "        print(\"prime number\")    \n",
    "else:\n",
    "    print('not prime number')"
   ]
  },
  {
   "cell_type": "code",
   "execution_count": 21,
   "id": "39bed96b",
   "metadata": {},
   "outputs": [],
   "source": [
    "# function----->1 kaam karo\n",
    "#  wait for invitation\n",
    "\n",
    "# dry ----> dont repeat yourself\n",
    "\n",
    "def hello():\n",
    "    print(\"Good morning!!\")"
   ]
  },
  {
   "cell_type": "code",
   "execution_count": 22,
   "id": "319973b0",
   "metadata": {},
   "outputs": [
    {
     "name": "stdout",
     "output_type": "stream",
     "text": [
      "Good morning!!\n"
     ]
    }
   ],
   "source": [
    "hello()"
   ]
  },
  {
   "cell_type": "code",
   "execution_count": 23,
   "id": "34e4a6e1",
   "metadata": {},
   "outputs": [],
   "source": [
    "#wap to add two number using function.\n",
    "\n",
    "\n",
    "\n",
    "# types of function"
   ]
  },
  {
   "cell_type": "code",
   "execution_count": 24,
   "id": "c46e561d",
   "metadata": {},
   "outputs": [
    {
     "data": {
      "text/plain": [
       "9"
      ]
     },
     "execution_count": 24,
     "metadata": {},
     "output_type": "execute_result"
    }
   ],
   "source": [
    "# no arg no return\n",
    "#with arg with return\n",
    "# no arg with return\n",
    "# with arg no return \n",
    "\n",
    "\n",
    "\n",
    "def add(x,y):\n",
    "    c = x+y\n",
    "    return c\n",
    "\n",
    "\n",
    "add(1,8)"
   ]
  },
  {
   "cell_type": "code",
   "execution_count": 25,
   "id": "3b025676",
   "metadata": {},
   "outputs": [
    {
     "name": "stdout",
     "output_type": "stream",
     "text": [
      "9\n"
     ]
    }
   ],
   "source": [
    "def add(x,y):\n",
    "    c = x+y\n",
    "    print(c)\n",
    "    \n",
    "add(1,8)"
   ]
  },
  {
   "cell_type": "code",
   "execution_count": 32,
   "id": "f75662d6",
   "metadata": {},
   "outputs": [
    {
     "data": {
      "text/plain": [
       "15"
      ]
     },
     "execution_count": 32,
     "metadata": {},
     "output_type": "execute_result"
    }
   ],
   "source": [
    "#wap to add the number present in a list using function.\n",
    "x = [1,2,3,4,5]\n",
    "def add(x):\n",
    "    y = 0\n",
    "    for i in x:\n",
    "        y = i+y\n",
    "    return(y)\n",
    "    \n",
    "add(x)\n",
    "    "
   ]
  },
  {
   "cell_type": "code",
   "execution_count": null,
   "id": "76b6ef53",
   "metadata": {},
   "outputs": [],
   "source": []
  }
 ],
 "metadata": {
  "kernelspec": {
   "display_name": "Python 3 (ipykernel)",
   "language": "python",
   "name": "python3"
  },
  "language_info": {
   "codemirror_mode": {
    "name": "ipython",
    "version": 3
   },
   "file_extension": ".py",
   "mimetype": "text/x-python",
   "name": "python",
   "nbconvert_exporter": "python",
   "pygments_lexer": "ipython3",
   "version": "3.9.7"
  }
 },
 "nbformat": 4,
 "nbformat_minor": 5
}
