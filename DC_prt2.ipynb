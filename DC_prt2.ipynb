{
 "cells": [
  {
   "cell_type": "code",
   "execution_count": 5,
   "id": "c5e37d26",
   "metadata": {},
   "outputs": [
    {
     "name": "stdout",
     "output_type": "stream",
     "text": [
      "10\n"
     ]
    }
   ],
   "source": [
    "x = [1,2,3,4]\n",
    "y = 0\n",
    "for i in x:\n",
    "    y = i+y\n",
    "print(y)\n",
    "    \n",
    "\n"
   ]
  },
  {
   "cell_type": "code",
   "execution_count": 2,
   "id": "2643575f",
   "metadata": {},
   "outputs": [
    {
     "data": {
      "text/plain": [
       "int"
      ]
     },
     "execution_count": 2,
     "metadata": {},
     "output_type": "execute_result"
    }
   ],
   "source": [
    "type(i)"
   ]
  },
  {
   "cell_type": "code",
   "execution_count": 3,
   "id": "a5c67545",
   "metadata": {},
   "outputs": [
    {
     "data": {
      "text/plain": [
       "list"
      ]
     },
     "execution_count": 3,
     "metadata": {},
     "output_type": "execute_result"
    }
   ],
   "source": [
    "type(x)"
   ]
  },
  {
   "cell_type": "code",
   "execution_count": 6,
   "id": "8dbac8c2",
   "metadata": {},
   "outputs": [],
   "source": [
    "x = [34,45,89,'Python',\"DSA\",'Google',45.56,True]"
   ]
  },
  {
   "cell_type": "code",
   "execution_count": 7,
   "id": "22d28f1e",
   "metadata": {},
   "outputs": [
    {
     "name": "stdout",
     "output_type": "stream",
     "text": [
      "[34, 45, 89, 'Python', 'DSA', 'Google', 45.56, True]\n"
     ]
    }
   ],
   "source": [
    "print(x)"
   ]
  },
  {
   "cell_type": "code",
   "execution_count": 8,
   "id": "27f4e1e8",
   "metadata": {},
   "outputs": [
    {
     "data": {
      "text/plain": [
       "list"
      ]
     },
     "execution_count": 8,
     "metadata": {},
     "output_type": "execute_result"
    }
   ],
   "source": [
    "type(x)"
   ]
  },
  {
   "cell_type": "code",
   "execution_count": 11,
   "id": "bb810f10",
   "metadata": {},
   "outputs": [
    {
     "data": {
      "text/plain": [
       "['Google', 45.56, True]"
      ]
     },
     "execution_count": 11,
     "metadata": {},
     "output_type": "execute_result"
    }
   ],
   "source": [
    "x[5:8]"
   ]
  },
  {
   "cell_type": "code",
   "execution_count": 18,
   "id": "c153af10",
   "metadata": {},
   "outputs": [
    {
     "data": {
      "text/plain": [
       "[34, 89, 'DSA', 45.56]"
      ]
     },
     "execution_count": 18,
     "metadata": {},
     "output_type": "execute_result"
    }
   ],
   "source": [
    "x[0::2]"
   ]
  },
  {
   "cell_type": "code",
   "execution_count": 19,
   "id": "b288d0e4",
   "metadata": {},
   "outputs": [
    {
     "data": {
      "text/plain": [
       "[34, 45, 89, 'Python', 'DSA', 'Google', 45.56, True]"
      ]
     },
     "execution_count": 19,
     "metadata": {},
     "output_type": "execute_result"
    }
   ],
   "source": [
    "# Mutable -----> \n",
    "x"
   ]
  },
  {
   "cell_type": "code",
   "execution_count": 22,
   "id": "067b4f52",
   "metadata": {},
   "outputs": [],
   "source": [
    "x[5]=100"
   ]
  },
  {
   "cell_type": "code",
   "execution_count": 23,
   "id": "1406455f",
   "metadata": {},
   "outputs": [
    {
     "data": {
      "text/plain": [
       "[34, 45, 89, 'Python', 'DSA', 100, 45.56, True]"
      ]
     },
     "execution_count": 23,
     "metadata": {},
     "output_type": "execute_result"
    }
   ],
   "source": [
    "x"
   ]
  },
  {
   "cell_type": "code",
   "execution_count": 24,
   "id": "62d6d127",
   "metadata": {},
   "outputs": [
    {
     "data": {
      "text/plain": [
       "100"
      ]
     },
     "execution_count": 24,
     "metadata": {},
     "output_type": "execute_result"
    }
   ],
   "source": [
    "x[5]"
   ]
  },
  {
   "cell_type": "code",
   "execution_count": 42,
   "id": "0fdc315d",
   "metadata": {},
   "outputs": [
    {
     "name": "stdout",
     "output_type": "stream",
     "text": [
      "0\n"
     ]
    }
   ],
   "source": [
    "x = [34,45,8,23,12,90,38]\n",
    "y = 0\n",
    "\n",
    "for i in x:\n",
    "    if i<y:\n",
    "        y = i \n",
    "print(y)\n",
    "        \n",
    "    "
   ]
  },
  {
   "cell_type": "code",
   "execution_count": 41,
   "id": "fee77004",
   "metadata": {},
   "outputs": [
    {
     "name": "stdout",
     "output_type": "stream",
     "text": [
      "7\n"
     ]
    }
   ],
   "source": [
    "x= [33,56,54,43,32,21,22,10,7]\n",
    "y=33\n",
    "for i in x:\n",
    "    if i<y:\n",
    "        y=i\n",
    "print(y) "
   ]
  },
  {
   "cell_type": "code",
   "execution_count": 43,
   "id": "da031c7d",
   "metadata": {},
   "outputs": [
    {
     "name": "stdout",
     "output_type": "stream",
     "text": [
      "7\n"
     ]
    }
   ],
   "source": [
    "x= [33,56,54,43,32,21,22,10,7]\n",
    "y = x[0]\n",
    "for i in x:\n",
    "    if i<y:\n",
    "        y=i\n",
    "print(y)\n"
   ]
  },
  {
   "cell_type": "code",
   "execution_count": 46,
   "id": "3acf7603",
   "metadata": {},
   "outputs": [
    {
     "name": "stdout",
     "output_type": "stream",
     "text": [
      "7\n"
     ]
    }
   ],
   "source": [
    "x= [33,56,54,43,32,21,22,10,7]\n",
    "y = x[0]\n",
    "for i in x:\n",
    "    if i<y:\n",
    "        y = i\n",
    "print(y)"
   ]
  },
  {
   "cell_type": "code",
   "execution_count": 47,
   "id": "cda26609",
   "metadata": {},
   "outputs": [
    {
     "data": {
      "text/plain": [
       "[7, 10, 22, 21, 32, 43, 54, 56, 33]"
      ]
     },
     "execution_count": 47,
     "metadata": {},
     "output_type": "execute_result"
    }
   ],
   "source": [
    "x= [33,56,54,43,32,21,22,10,7]\n",
    "x[::-1]"
   ]
  },
  {
   "cell_type": "code",
   "execution_count": 49,
   "id": "f22d0bed",
   "metadata": {},
   "outputs": [
    {
     "name": "stdout",
     "output_type": "stream",
     "text": [
      "120\n"
     ]
    }
   ],
   "source": [
    "x = [1,2,3,4,5]\n",
    "y = 1\n",
    "for i in x:\n",
    "    y = y*i\n",
    "print(y)\n",
    "    "
   ]
  },
  {
   "cell_type": "code",
   "execution_count": 60,
   "id": "9fe8ec17",
   "metadata": {},
   "outputs": [
    {
     "name": "stdout",
     "output_type": "stream",
     "text": [
      "Even 34\n",
      "Even 78\n",
      "Even 90\n",
      "Odd 87\n",
      "Odd 63\n",
      "Odd 21\n",
      "Odd 97\n",
      "Even number count is-----> 3\n",
      "Odd number count is -----> 4\n"
     ]
    }
   ],
   "source": [
    "x = [34,78,90,87,63,21,97]\n",
    "count_evn = 0 \n",
    "count_odd = 0\n",
    "for i in x:\n",
    "    if i % 2 == 0 :\n",
    "        print(\"Even\",i)\n",
    "        count_evn = count_evn+1\n",
    "        \n",
    "    else:\n",
    "        print(\"Odd\",i)\n",
    "        count_odd = count_odd+1\n",
    "print(\"Even number count is----->\",count_evn)\n",
    "print(\"Odd number count is ----->\",count_odd)"
   ]
  },
  {
   "cell_type": "code",
   "execution_count": 66,
   "id": "b1d84da9",
   "metadata": {},
   "outputs": [
    {
     "name": "stdout",
     "output_type": "stream",
     "text": [
      "+ve 34\n",
      "+ve 78\n",
      "-ve -90\n",
      "-ve -23\n",
      "Neutarl value 0\n"
     ]
    }
   ],
   "source": [
    "# 1-60---->\n",
    "\n",
    "x = [34,78,-90,-23,0]\n",
    "for i in x:\n",
    "    if i>0:\n",
    "        print(\"+ve\",i)\n",
    "    elif i ==0:\n",
    "        print(\"Neutarl value\",i)\n",
    "    else:\n",
    "        print(\"-ve\",i)"
   ]
  },
  {
   "cell_type": "code",
   "execution_count": 69,
   "id": "84ac6be7",
   "metadata": {},
   "outputs": [
    {
     "name": "stdout",
     "output_type": "stream",
     "text": [
      "olleh\n"
     ]
    }
   ],
   "source": [
    "x = 'hello'\n",
    "y = ''\n",
    "for i in x:\n",
    "    y = i+y\n",
    "print(y)"
   ]
  },
  {
   "cell_type": "code",
   "execution_count": 73,
   "id": "139c5e4e",
   "metadata": {},
   "outputs": [
    {
     "name": "stdout",
     "output_type": "stream",
     "text": [
      "P\n"
     ]
    }
   ],
   "source": [
    "x = 'nitin'\n",
    "y = ''\n",
    "for i in x:\n",
    "    y = i+y\n",
    "if x==y:\n",
    "    print(\"P\")\n",
    "else:\n",
    "    print(\"reverse\")"
   ]
  },
  {
   "cell_type": "code",
   "execution_count": 74,
   "id": "4b32f077",
   "metadata": {},
   "outputs": [
    {
     "data": {
      "text/plain": [
       "[4, 3, 2, 1]"
      ]
     },
     "execution_count": 74,
     "metadata": {},
     "output_type": "execute_result"
    }
   ],
   "source": [
    "x = [1,2,3,4]\n",
    "x[::-1]"
   ]
  },
  {
   "cell_type": "code",
   "execution_count": 75,
   "id": "d104a66e",
   "metadata": {},
   "outputs": [
    {
     "data": {
      "text/plain": [
       "[1, 2, 3, 4]"
      ]
     },
     "execution_count": 75,
     "metadata": {},
     "output_type": "execute_result"
    }
   ],
   "source": [
    "x"
   ]
  },
  {
   "cell_type": "code",
   "execution_count": 76,
   "id": "7062268b",
   "metadata": {},
   "outputs": [],
   "source": [
    "x.reverse()"
   ]
  },
  {
   "cell_type": "code",
   "execution_count": 77,
   "id": "b15cc780",
   "metadata": {},
   "outputs": [
    {
     "data": {
      "text/plain": [
       "[4, 3, 2, 1]"
      ]
     },
     "execution_count": 77,
     "metadata": {},
     "output_type": "execute_result"
    }
   ],
   "source": [
    "x"
   ]
  },
  {
   "cell_type": "code",
   "execution_count": null,
   "id": "84a9cd2d",
   "metadata": {},
   "outputs": [],
   "source": []
  }
 ],
 "metadata": {
  "kernelspec": {
   "display_name": "Python 3 (ipykernel)",
   "language": "python",
   "name": "python3"
  },
  "language_info": {
   "codemirror_mode": {
    "name": "ipython",
    "version": 3
   },
   "file_extension": ".py",
   "mimetype": "text/x-python",
   "name": "python",
   "nbconvert_exporter": "python",
   "pygments_lexer": "ipython3",
   "version": "3.9.7"
  }
 },
 "nbformat": 4,
 "nbformat_minor": 5
}
