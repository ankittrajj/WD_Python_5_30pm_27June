{
 "cells": [
  {
   "cell_type": "code",
   "execution_count": 6,
   "id": "97b2ab42",
   "metadata": {},
   "outputs": [
    {
     "name": "stdout",
     "output_type": "stream",
     "text": [
      "0\n",
      "1\n",
      "2\n",
      "3\n",
      "4\n",
      "5\n",
      "6\n",
      "7\n",
      "8\n",
      "9\n"
     ]
    }
   ],
   "source": [
    "# for loop\n",
    "# while loop\n",
    "# wap to print from 0-10.\n",
    "\n",
    "# Syntax----> for variable in range function(define the range):\n",
    "#     print the msg\n",
    "\n",
    "for i in range(10):\n",
    "    print(i)"
   ]
  },
  {
   "cell_type": "code",
   "execution_count": 8,
   "id": "15ffdda1",
   "metadata": {},
   "outputs": [
    {
     "name": "stdout",
     "output_type": "stream",
     "text": [
      "2\n",
      "3\n",
      "4\n",
      "5\n",
      "6\n",
      "7\n",
      "8\n",
      "9\n",
      "10\n",
      "11\n",
      "12\n",
      "13\n",
      "14\n",
      "15\n",
      "16\n",
      "17\n",
      "18\n",
      "19\n"
     ]
    }
   ],
   "source": [
    "# 2-20\n",
    "for i in range(2,20):\n",
    "    print(i)"
   ]
  },
  {
   "cell_type": "code",
   "execution_count": 19,
   "id": "eb63a69a",
   "metadata": {},
   "outputs": [
    {
     "name": "stdout",
     "output_type": "stream",
     "text": [
      "12\n",
      "14\n",
      "16\n",
      "18\n",
      "20\n",
      "22\n",
      "24\n",
      "26\n",
      "28\n",
      "30\n",
      "32\n"
     ]
    }
   ],
   "source": [
    "n = 3\n",
    "for i in range(12,34,n-1):\n",
    "    print(i)"
   ]
  },
  {
   "cell_type": "code",
   "execution_count": 22,
   "id": "10eebd14",
   "metadata": {},
   "outputs": [
    {
     "name": "stdout",
     "output_type": "stream",
     "text": [
      "-10\n",
      "-9\n",
      "-8\n",
      "-7\n",
      "-6\n",
      "-5\n",
      "-4\n",
      "-3\n",
      "-2\n",
      "-1\n",
      "0\n",
      "1\n",
      "2\n",
      "3\n",
      "4\n",
      "5\n",
      "6\n",
      "7\n",
      "8\n",
      "9\n",
      "10\n"
     ]
    }
   ],
   "source": [
    "#wap to print number from -10 to 10.\n",
    "#wap to print number from 10 to -10.\n",
    "\n",
    "for i in range(-10,11):\n",
    "    print(i)"
   ]
  },
  {
   "cell_type": "code",
   "execution_count": 24,
   "id": "9bf315f1",
   "metadata": {},
   "outputs": [
    {
     "name": "stdout",
     "output_type": "stream",
     "text": [
      "10\n",
      "9\n",
      "8\n",
      "7\n",
      "6\n",
      "5\n",
      "4\n",
      "3\n",
      "2\n",
      "1\n",
      "0\n",
      "-1\n",
      "-2\n",
      "-3\n",
      "-4\n",
      "-5\n",
      "-6\n",
      "-7\n",
      "-8\n",
      "-9\n",
      "-10\n"
     ]
    }
   ],
   "source": [
    "for i in range(10,-11,-1):\n",
    "    print(i)"
   ]
  },
  {
   "cell_type": "code",
   "execution_count": 29,
   "id": "ac09868b",
   "metadata": {},
   "outputs": [
    {
     "name": "stdout",
     "output_type": "stream",
     "text": [
      "Even number----------> 0\n",
      "Odd 1\n",
      "Even number----------> 2\n",
      "Odd 3\n",
      "Even number----------> 4\n",
      "Odd 5\n",
      "Even number----------> 6\n",
      "Odd 7\n",
      "Even number----------> 8\n",
      "Odd 9\n",
      "Even number----------> 10\n",
      "Odd 11\n",
      "Even number----------> 12\n",
      "Odd 13\n",
      "Even number----------> 14\n",
      "Odd 15\n",
      "Even number----------> 16\n",
      "Odd 17\n",
      "Even number----------> 18\n",
      "Odd 19\n",
      "Even number----------> 20\n",
      "Odd 21\n",
      "Even number----------> 22\n",
      "Odd 23\n",
      "Even number----------> 24\n",
      "Odd 25\n",
      "Even number----------> 26\n",
      "Odd 27\n",
      "Even number----------> 28\n",
      "Odd 29\n",
      "Even number----------> 30\n",
      "Odd 31\n",
      "Even number----------> 32\n",
      "Odd 33\n",
      "Even number----------> 34\n",
      "Odd 35\n",
      "Even number----------> 36\n",
      "Odd 37\n",
      "Even number----------> 38\n",
      "Odd 39\n",
      "Even number----------> 40\n",
      "Odd 41\n",
      "Even number----------> 42\n",
      "Odd 43\n",
      "Even number----------> 44\n",
      "Odd 45\n",
      "Even number----------> 46\n",
      "Odd 47\n",
      "Even number----------> 48\n",
      "Odd 49\n",
      "Even number----------> 50\n"
     ]
    }
   ],
   "source": [
    "#wap to find odd and even number from 0-50.\n",
    "for i in range(51):\n",
    "    if i%2 ==0:\n",
    "        print(\"Even number---------->\",i)\n",
    "    else:\n",
    "        print(\"Odd\",i)"
   ]
  },
  {
   "cell_type": "code",
   "execution_count": 30,
   "id": "d59fc4e8",
   "metadata": {},
   "outputs": [
    {
     "name": "stdout",
     "output_type": "stream",
     "text": [
      "Even 0\n",
      "Odd number----------> 1\n",
      "Even 2\n",
      "Odd number----------> 3\n",
      "Even 4\n",
      "Odd number----------> 5\n",
      "Even 6\n",
      "Odd number----------> 7\n",
      "Even 8\n",
      "Odd number----------> 9\n",
      "Even 10\n",
      "Odd number----------> 11\n",
      "Even 12\n",
      "Odd number----------> 13\n",
      "Even 14\n",
      "Odd number----------> 15\n",
      "Even 16\n",
      "Odd number----------> 17\n",
      "Even 18\n",
      "Odd number----------> 19\n",
      "Even 20\n",
      "Odd number----------> 21\n",
      "Even 22\n",
      "Odd number----------> 23\n",
      "Even 24\n",
      "Odd number----------> 25\n",
      "Even 26\n",
      "Odd number----------> 27\n",
      "Even 28\n",
      "Odd number----------> 29\n",
      "Even 30\n",
      "Odd number----------> 31\n",
      "Even 32\n",
      "Odd number----------> 33\n",
      "Even 34\n",
      "Odd number----------> 35\n",
      "Even 36\n",
      "Odd number----------> 37\n",
      "Even 38\n",
      "Odd number----------> 39\n",
      "Even 40\n",
      "Odd number----------> 41\n",
      "Even 42\n",
      "Odd number----------> 43\n",
      "Even 44\n",
      "Odd number----------> 45\n",
      "Even 46\n",
      "Odd number----------> 47\n",
      "Even 48\n",
      "Odd number----------> 49\n",
      "Even 50\n"
     ]
    }
   ],
   "source": [
    "for i in range(51):\n",
    "    if i%2 !=0:\n",
    "        print(\"Odd number---------->\",i)\n",
    "    else:\n",
    "        print(\"Even\",i)"
   ]
  },
  {
   "cell_type": "code",
   "execution_count": 31,
   "id": "945b0b67",
   "metadata": {},
   "outputs": [
    {
     "name": "stdout",
     "output_type": "stream",
     "text": [
      "0\n",
      "1\n",
      "2\n",
      "3\n",
      "4\n",
      "5\n",
      "6\n",
      "7\n",
      "8\n",
      "9\n"
     ]
    }
   ],
   "source": [
    "#while loop ----->\n",
    "# 1 . initialization\n",
    "# 2.  condition\n",
    "# 3.  increment/decrement\n",
    "\n",
    "# 0-10\n",
    "\n",
    "x = 0\n",
    "while x<10:\n",
    "    print(x)\n",
    "    x=x+1\n",
    "#     x+=1\n",
    "#     x++\n",
    "\n",
    "\n",
    "\n"
   ]
  },
  {
   "cell_type": "code",
   "execution_count": 32,
   "id": "d403963b",
   "metadata": {},
   "outputs": [
    {
     "name": "stdout",
     "output_type": "stream",
     "text": [
      "0\n",
      "1\n",
      "2\n",
      "3\n",
      "4\n",
      "5\n",
      "6\n",
      "7\n",
      "8\n",
      "9\n"
     ]
    }
   ],
   "source": [
    "x = 0\n",
    "while x<10:\n",
    "    print(x)\n",
    "    x+=1"
   ]
  },
  {
   "cell_type": "code",
   "execution_count": 33,
   "id": "9b2fd035",
   "metadata": {},
   "outputs": [
    {
     "ename": "SyntaxError",
     "evalue": "invalid syntax (Temp/ipykernel_14104/1374958610.py, line 4)",
     "output_type": "error",
     "traceback": [
      "\u001b[1;36m  File \u001b[1;32m\"C:\\Users\\Satyam\\AppData\\Local\\Temp/ipykernel_14104/1374958610.py\"\u001b[1;36m, line \u001b[1;32m4\u001b[0m\n\u001b[1;33m    x++\u001b[0m\n\u001b[1;37m       ^\u001b[0m\n\u001b[1;31mSyntaxError\u001b[0m\u001b[1;31m:\u001b[0m invalid syntax\n"
     ]
    }
   ],
   "source": [
    "x = 0\n",
    "while x<10:\n",
    "    print(x)\n",
    "    x++"
   ]
  },
  {
   "cell_type": "code",
   "execution_count": null,
   "id": "f0b80c26",
   "metadata": {},
   "outputs": [],
   "source": []
  }
 ],
 "metadata": {
  "kernelspec": {
   "display_name": "Python 3 (ipykernel)",
   "language": "python",
   "name": "python3"
  },
  "language_info": {
   "codemirror_mode": {
    "name": "ipython",
    "version": 3
   },
   "file_extension": ".py",
   "mimetype": "text/x-python",
   "name": "python",
   "nbconvert_exporter": "python",
   "pygments_lexer": "ipython3",
   "version": "3.9.7"
  }
 },
 "nbformat": 4,
 "nbformat_minor": 5
}
