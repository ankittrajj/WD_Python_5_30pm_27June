{
 "cells": [
  {
   "cell_type": "code",
   "execution_count": 12,
   "id": "5c34d243",
   "metadata": {},
   "outputs": [
    {
     "name": "stdout",
     "output_type": "stream",
     "text": [
      "Enter the leaves for doc as sunday!!Sunday\n",
      "enter the leaves!!3\n"
     ]
    },
    {
     "data": {
      "text/plain": [
       "12000.0"
      ]
     },
     "execution_count": 12,
     "metadata": {},
     "output_type": "execute_result"
    }
   ],
   "source": [
    "#wap to find the salary of the engineer and a doctor but there is \n",
    "# a simple condition  for their salaries\n",
    "# conditions are\n",
    "# if a engineer take holidays more than 12 in a year then there will be a\n",
    "# deduction  of 12% of salary and if doc takes same amount of holiday\n",
    "# there is no deduction at all.\n",
    "# but a doc salary is deducted by 2% if he takes holiday on sundays.\n",
    "# now the salary of engineer is 5lpa while salary of doc is 6lpa\n",
    "#  find the salary after deduction using oops concept.\n",
    "\n",
    "\n",
    "class doc:\n",
    "    def __init__(self,sal_d=600000):\n",
    "        self.sal_d = sal_d\n",
    "        self.leaves_d = input(\"Enter the leaves for doc as sunday!!\")\n",
    "    \n",
    "    \n",
    "class eng(doc):\n",
    "    def __init__(self,sal_e=500000):\n",
    "        super().__init__() \n",
    "        self.sal_e = sal_e\n",
    "        self.leaves_e = int(input(\"enter the leaves!!\"))\n",
    "        \n",
    "        \n",
    "    def deduction(self):\n",
    "        if self.leaves_e>12:\n",
    "            ded = (self.sal_e*12)/100\n",
    "            return ded\n",
    "        elif self.leaves_d == 'Sunday':\n",
    "            ded_d = (self.sal_d*2)/100\n",
    "            return ded_d\n",
    "        else:\n",
    "            return \"no ded\"\n",
    "        \n",
    "        \n",
    "        \n",
    "\n",
    "e = eng()\n",
    "e.deduction()\n",
    "            \n",
    "        \n",
    "        \n",
    "\n",
    "\n"
   ]
  },
  {
   "cell_type": "code",
   "execution_count": 16,
   "id": "fd9f7886",
   "metadata": {},
   "outputs": [],
   "source": [
    "#wap to make a empty class.\n",
    "\n",
    "class emp:\n",
    "    None\n",
    "    \n",
    "    \n",
    "    \n",
    "e = emp()\n"
   ]
  },
  {
   "cell_type": "code",
   "execution_count": 17,
   "id": "8ec7b818",
   "metadata": {},
   "outputs": [
    {
     "data": {
      "text/plain": [
       "<__main__.emp at 0x258c57253a0>"
      ]
     },
     "execution_count": 17,
     "metadata": {},
     "output_type": "execute_result"
    }
   ],
   "source": [
    "e"
   ]
  },
  {
   "cell_type": "code",
   "execution_count": null,
   "id": "fca4aa51",
   "metadata": {},
   "outputs": [],
   "source": []
  }
 ],
 "metadata": {
  "kernelspec": {
   "display_name": "Python 3 (ipykernel)",
   "language": "python",
   "name": "python3"
  },
  "language_info": {
   "codemirror_mode": {
    "name": "ipython",
    "version": 3
   },
   "file_extension": ".py",
   "mimetype": "text/x-python",
   "name": "python",
   "nbconvert_exporter": "python",
   "pygments_lexer": "ipython3",
   "version": "3.9.7"
  }
 },
 "nbformat": 4,
 "nbformat_minor": 5
}
