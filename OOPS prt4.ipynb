{
 "cells": [
  {
   "cell_type": "markdown",
   "id": "6f705fba",
   "metadata": {},
   "source": [
    "# Encapsulation"
   ]
  },
  {
   "cell_type": "code",
   "execution_count": 1,
   "id": "9bbfee23",
   "metadata": {},
   "outputs": [
    {
     "data": {
      "text/plain": [
       "2"
      ]
     },
     "execution_count": 1,
     "metadata": {},
     "output_type": "execute_result"
    }
   ],
   "source": [
    "# public \n",
    "# private\n",
    "# protected\n",
    "\n",
    "# public mode\n",
    "class x:\n",
    "    def fun(self,a):\n",
    "#         a = 6\n",
    "        return a\n",
    "    \n",
    "s = x()\n",
    "s.fun(2)"
   ]
  },
  {
   "cell_type": "code",
   "execution_count": 7,
   "id": "55899db7",
   "metadata": {},
   "outputs": [
    {
     "data": {
      "text/plain": [
       "3"
      ]
     },
     "execution_count": 7,
     "metadata": {},
     "output_type": "execute_result"
    }
   ],
   "source": [
    "class fun:\n",
    "    def fun(self,a,b):\n",
    "        return a+b\n",
    "    \n",
    "    def __fun1(self,c):\n",
    "        return c\n",
    "    \n",
    "    \n",
    "    \n",
    "f = fun()\n",
    "f.fun(1,2)"
   ]
  },
  {
   "cell_type": "code",
   "execution_count": 8,
   "id": "9d978ebf",
   "metadata": {},
   "outputs": [
    {
     "ename": "AttributeError",
     "evalue": "'fun' object has no attribute 'fun1'",
     "output_type": "error",
     "traceback": [
      "\u001b[1;31m---------------------------------------------------------------------------\u001b[0m",
      "\u001b[1;31mAttributeError\u001b[0m                            Traceback (most recent call last)",
      "\u001b[1;32m~\\AppData\\Local\\Temp/ipykernel_12120/1066614661.py\u001b[0m in \u001b[0;36m<module>\u001b[1;34m\u001b[0m\n\u001b[1;32m----> 1\u001b[1;33m \u001b[0mf\u001b[0m\u001b[1;33m.\u001b[0m\u001b[0mfun1\u001b[0m\u001b[1;33m(\u001b[0m\u001b[1;36m5\u001b[0m\u001b[1;33m)\u001b[0m\u001b[1;33m\u001b[0m\u001b[1;33m\u001b[0m\u001b[0m\n\u001b[0m",
      "\u001b[1;31mAttributeError\u001b[0m: 'fun' object has no attribute 'fun1'"
     ]
    }
   ],
   "source": [
    "f.fun1(5)"
   ]
  },
  {
   "cell_type": "code",
   "execution_count": 14,
   "id": "baecc2c3",
   "metadata": {},
   "outputs": [
    {
     "data": {
      "text/plain": [
       "3"
      ]
     },
     "execution_count": 14,
     "metadata": {},
     "output_type": "execute_result"
    }
   ],
   "source": [
    "class fun:\n",
    "    def fun(self,a,b):\n",
    "        return a+b\n",
    "    \n",
    "    def __fun1(self,c):\n",
    "        return c\n",
    "    \n",
    "    \n",
    "    \n",
    "f = fun()\n",
    "f.fun(1,2)"
   ]
  },
  {
   "cell_type": "code",
   "execution_count": 13,
   "id": "63fe273b",
   "metadata": {},
   "outputs": [
    {
     "data": {
      "text/plain": [
       "2"
      ]
     },
     "execution_count": 13,
     "metadata": {},
     "output_type": "execute_result"
    }
   ],
   "source": [
    "f.__fun1__(2)"
   ]
  },
  {
   "cell_type": "code",
   "execution_count": 18,
   "id": "1c902057",
   "metadata": {},
   "outputs": [
    {
     "data": {
      "text/plain": [
       "2"
      ]
     },
     "execution_count": 18,
     "metadata": {},
     "output_type": "execute_result"
    }
   ],
   "source": [
    "class x:\n",
    "    def fun(self,__a):\n",
    "        return __a\n",
    "    \n",
    "s = x()\n",
    "s.fun(2)\n",
    "    \n"
   ]
  },
  {
   "cell_type": "code",
   "execution_count": 19,
   "id": "10e9f99d",
   "metadata": {},
   "outputs": [
    {
     "data": {
      "text/plain": [
       "10"
      ]
     },
     "execution_count": 19,
     "metadata": {},
     "output_type": "execute_result"
    }
   ],
   "source": [
    "class x :\n",
    "    a = 10\n",
    "    __b = 8\n",
    "    \n",
    "c = x()\n",
    "c.a"
   ]
  },
  {
   "cell_type": "code",
   "execution_count": 21,
   "id": "a237181c",
   "metadata": {},
   "outputs": [
    {
     "ename": "AttributeError",
     "evalue": "'x' object has no attribute '__b'",
     "output_type": "error",
     "traceback": [
      "\u001b[1;31m---------------------------------------------------------------------------\u001b[0m",
      "\u001b[1;31mAttributeError\u001b[0m                            Traceback (most recent call last)",
      "\u001b[1;32m~\\AppData\\Local\\Temp/ipykernel_12120/2733955962.py\u001b[0m in \u001b[0;36m<module>\u001b[1;34m\u001b[0m\n\u001b[1;32m----> 1\u001b[1;33m \u001b[0mc\u001b[0m\u001b[1;33m.\u001b[0m\u001b[0m__b\u001b[0m\u001b[1;33m\u001b[0m\u001b[1;33m\u001b[0m\u001b[0m\n\u001b[0m",
      "\u001b[1;31mAttributeError\u001b[0m: 'x' object has no attribute '__b'"
     ]
    }
   ],
   "source": [
    "c.__b"
   ]
  },
  {
   "cell_type": "code",
   "execution_count": 24,
   "id": "2c2b7afa",
   "metadata": {},
   "outputs": [
    {
     "data": {
      "text/plain": [
       "1"
      ]
     },
     "execution_count": 24,
     "metadata": {},
     "output_type": "execute_result"
    }
   ],
   "source": [
    "# protected mode\n",
    "\n",
    "class fun:\n",
    "    def fun(self,a,b):\n",
    "        return a+b\n",
    "    \n",
    "    def _fun1(self,c):\n",
    "        return c\n",
    "    \n",
    "    \n",
    "    \n",
    "f = fun()\n",
    "f._fun1(1)"
   ]
  },
  {
   "cell_type": "code",
   "execution_count": null,
   "id": "88f262fd",
   "metadata": {},
   "outputs": [],
   "source": []
  }
 ],
 "metadata": {
  "kernelspec": {
   "display_name": "Python 3 (ipykernel)",
   "language": "python",
   "name": "python3"
  },
  "language_info": {
   "codemirror_mode": {
    "name": "ipython",
    "version": 3
   },
   "file_extension": ".py",
   "mimetype": "text/x-python",
   "name": "python",
   "nbconvert_exporter": "python",
   "pygments_lexer": "ipython3",
   "version": "3.9.7"
  }
 },
 "nbformat": 4,
 "nbformat_minor": 5
}
