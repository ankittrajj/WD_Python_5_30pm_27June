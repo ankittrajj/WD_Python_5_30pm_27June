{
 "cells": [
  {
   "cell_type": "code",
   "execution_count": 8,
   "id": "ad8821a9",
   "metadata": {},
   "outputs": [
    {
     "name": "stdout",
     "output_type": "stream",
     "text": [
      "Enter the salary567546756785678\n",
      "Enter the year8\n",
      "28377337839283.9\n",
      "595924094624961.9\n"
     ]
    }
   ],
   "source": [
    "# A company decided to give bonus of 5% to employee \n",
    "# if his/her year of service is more than 5 years.\n",
    "# Ask user for their salary and year of service \n",
    "# and print the net bonus amount.\n",
    "\n",
    "salary = int(input(\"Enter the salary\"))\n",
    "yos =int( input(\"Enter the year\"))\n",
    "\n",
    "if yos>5:\n",
    "    bonus = (salary*5)/100\n",
    "    print(bonus)\n",
    "    total_income = bonus+salary\n",
    "    print(total_income)\n",
    "else:\n",
    "    print(\"NOt bonus\")\n",
    "    print(salary)\n"
   ]
  },
  {
   "cell_type": "code",
   "execution_count": 12,
   "id": "e19e0a8c",
   "metadata": {},
   "outputs": [
    {
     "name": "stdout",
     "output_type": "stream",
     "text": [
      "Square\n"
     ]
    }
   ],
   "source": [
    "# Take values of length and breadth of a rectangle \n",
    "# from user and check if it is square or not.\n",
    "\n",
    "l = 2\n",
    "b = 2\n",
    "a = 2\n",
    "\n",
    "area_of_rec = l*b\n",
    "area_of_sq = a**2\n",
    "\n",
    "if area_of_rec == area_of_sq:\n",
    "    print(\"Square\")\n",
    "else:\n",
    "    print(\"Rectangle\")"
   ]
  },
  {
   "cell_type": "code",
   "execution_count": 17,
   "id": "9d9df876",
   "metadata": {},
   "outputs": [
    {
     "name": "stdout",
     "output_type": "stream",
     "text": [
      "E grade\n"
     ]
    }
   ],
   "source": [
    "# A school has following rules for grading system:\n",
    "# a. Below 25 - F\n",
    "# b. 25 to 45 - E\n",
    "# c. 45 to 50 - D\n",
    "# d. 50 to 60 - C\n",
    "# e. 60 to 80 - B\n",
    "# f. Above 80 - A\n",
    "# Ask user to enter marks and print the corresponding grade.\n",
    "\n",
    "marks = 45\n",
    "if marks > 80:\n",
    "    print(\"A grade\")\n",
    "elif marks > 60 and marks<=80:\n",
    "    print(\"B grade\")\n",
    "elif marks>50 and marks<=60:\n",
    "    print(\"C grade\")\n",
    "elif marks>45 and marks<=50:\n",
    "    print(\"D grade\")\n",
    "elif marks>25 and marks<=45:\n",
    "    print(\"E grade\")\n",
    "elif marks<25:\n",
    "    print(\"F grade\")\n",
    "    \n",
    "\n",
    "\n",
    "\n"
   ]
  },
  {
   "cell_type": "code",
   "execution_count": 22,
   "id": "aac32118",
   "metadata": {},
   "outputs": [
    {
     "name": "stdout",
     "output_type": "stream",
     "text": [
      "fizz\n"
     ]
    }
   ],
   "source": [
    "#wap to print fizz and buzz where the condition is if the number is \n",
    "# divisible by 3 print fizz but the number is divisible by 5 then print buzz\n",
    "# and if the number is divisible by both 3 & 2 but not by 5.\n",
    "# then print fizzbuzz.\n",
    "\n",
    "num = 60\n",
    "if num%3 == 0 and num% 2==0 and num % 5 !=0:\n",
    "    print(\"Fizzbuzz\")\n",
    "elif num % 3 ==0:\n",
    "    print(\"fizz\")\n",
    "elif num%5==0:\n",
    "    print(\"buzz\")"
   ]
  },
  {
   "cell_type": "code",
   "execution_count": 26,
   "id": "488f9497",
   "metadata": {},
   "outputs": [
    {
     "name": "stdout",
     "output_type": "stream",
     "text": [
      "89.0\n",
      "Allowed\n"
     ]
    }
   ],
   "source": [
    "# A student will not be allowed to sit in exam \n",
    "# if his/her attendance is less than 75%.\n",
    "# Take following input from user\n",
    "# Number of classes held\n",
    "# Number of classes attended.\n",
    "# And print\n",
    "# percentage of class attended\n",
    "# Is student is allowed to sit in exam or not.\n",
    "\n",
    "class_held = 100\n",
    "class_attend = 89\n",
    "per_of_class_attend = (class_attend/class_held)*100\n",
    "print(per_of_class_attend)\n",
    "\n",
    "if per_of_class_attend>75:\n",
    "    print(\"Allowed\")\n",
    "else:\n",
    "    print(\"Not Allowed\")\n",
    "\n",
    "\n",
    "\n",
    "\n",
    "\n"
   ]
  },
  {
   "cell_type": "code",
   "execution_count": 31,
   "id": "fc249794",
   "metadata": {},
   "outputs": [
    {
     "name": "stdout",
     "output_type": "stream",
     "text": [
      "Enter the number6\n",
      "Yahi hai right choice!!\n"
     ]
    }
   ],
   "source": [
    "#wap to guess the number from the range 1-10.your winning number.\n",
    "# is 6.\n",
    "num = int(input(\"Enter the number\"))\n",
    "if num>6:\n",
    "    print(\"Low number use karo\")\n",
    "elif num<6:\n",
    "    print(\"High number use karo bhai\")\n",
    "elif num==6:\n",
    "    print(\"Yahi hai right choice!!\")\n"
   ]
  },
  {
   "cell_type": "code",
   "execution_count": null,
   "id": "8fe557e2",
   "metadata": {},
   "outputs": [],
   "source": []
  }
 ],
 "metadata": {
  "kernelspec": {
   "display_name": "Python 3 (ipykernel)",
   "language": "python",
   "name": "python3"
  },
  "language_info": {
   "codemirror_mode": {
    "name": "ipython",
    "version": 3
   },
   "file_extension": ".py",
   "mimetype": "text/x-python",
   "name": "python",
   "nbconvert_exporter": "python",
   "pygments_lexer": "ipython3",
   "version": "3.9.7"
  }
 },
 "nbformat": 4,
 "nbformat_minor": 5
}
