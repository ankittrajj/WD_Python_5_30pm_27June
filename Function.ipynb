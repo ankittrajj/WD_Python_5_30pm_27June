{
 "cells": [
  {
   "cell_type": "code",
   "execution_count": 1,
   "id": "b33944a8",
   "metadata": {},
   "outputs": [],
   "source": [
    "# syntax\n",
    "# define the function   function_name():\n",
    "#     print the msg"
   ]
  },
  {
   "cell_type": "code",
   "execution_count": 2,
   "id": "5cde15cf",
   "metadata": {},
   "outputs": [],
   "source": [
    "def hello():\n",
    "    print(\"Good morning!!\")"
   ]
  },
  {
   "cell_type": "code",
   "execution_count": 3,
   "id": "1acb02f8",
   "metadata": {},
   "outputs": [
    {
     "name": "stdout",
     "output_type": "stream",
     "text": [
      "Good morning!!\n"
     ]
    }
   ],
   "source": [
    "hello()"
   ]
  },
  {
   "cell_type": "code",
   "execution_count": null,
   "id": "7f961a8c",
   "metadata": {},
   "outputs": [],
   "source": [
    "#1. no arg no return\n",
    "#2. no arg with return\n",
    "#3. with arg with return\n",
    "#4. with arg no return"
   ]
  },
  {
   "cell_type": "code",
   "execution_count": 5,
   "id": "7b434300",
   "metadata": {},
   "outputs": [],
   "source": [
    "#wap to add two numbers with the help of function.\n",
    "# no arg no return\n",
    "def add():\n",
    "    a = 9\n",
    "    b = 1\n",
    "    c = a+b\n",
    "    print(c)"
   ]
  },
  {
   "cell_type": "code",
   "execution_count": 6,
   "id": "d9f0704e",
   "metadata": {},
   "outputs": [
    {
     "name": "stdout",
     "output_type": "stream",
     "text": [
      "10\n"
     ]
    }
   ],
   "source": [
    "add()"
   ]
  },
  {
   "cell_type": "code",
   "execution_count": 7,
   "id": "aded2d69",
   "metadata": {},
   "outputs": [],
   "source": [
    "#with arg no return\n",
    "def add(x,y):\n",
    "    z = x+y\n",
    "    print(z)"
   ]
  },
  {
   "cell_type": "code",
   "execution_count": 9,
   "id": "8a4a78ef",
   "metadata": {},
   "outputs": [
    {
     "name": "stdout",
     "output_type": "stream",
     "text": [
      "3\n"
     ]
    }
   ],
   "source": [
    "add(1,2)"
   ]
  },
  {
   "cell_type": "code",
   "execution_count": null,
   "id": "3e2a9146",
   "metadata": {},
   "outputs": [],
   "source": [
    "#with arg with return\n",
    "#wap to calculate the sum of first 10 numbers using function.\n",
    "for i in range(11):\n",
    "    "
   ]
  },
  {
   "cell_type": "markdown",
   "id": "bba87d86",
   "metadata": {},
   "source": [
    "# Function part2\n"
   ]
  },
  {
   "cell_type": "code",
   "execution_count": null,
   "id": "822a9d6c",
   "metadata": {},
   "outputs": [],
   "source": [
    "#2. no arg with return\n",
    "#3. with arg with return"
   ]
  },
  {
   "cell_type": "code",
   "execution_count": 19,
   "id": "5738b876",
   "metadata": {},
   "outputs": [],
   "source": [
    "def add(x,y):\n",
    "    result = x+y\n",
    "    print('hello')\n",
    "    return result\n",
    "    \n",
    "    \n",
    "\n",
    "    \n",
    "    "
   ]
  },
  {
   "cell_type": "code",
   "execution_count": 20,
   "id": "ef62c359",
   "metadata": {},
   "outputs": [
    {
     "name": "stdout",
     "output_type": "stream",
     "text": [
      "hello\n"
     ]
    },
    {
     "data": {
      "text/plain": [
       "5"
      ]
     },
     "execution_count": 20,
     "metadata": {},
     "output_type": "execute_result"
    }
   ],
   "source": [
    "add(2,3)"
   ]
  },
  {
   "cell_type": "code",
   "execution_count": 7,
   "id": "39212d72",
   "metadata": {},
   "outputs": [
    {
     "name": "stdout",
     "output_type": "stream",
     "text": [
      "hello\n"
     ]
    }
   ],
   "source": [
    "print(\"hello\")"
   ]
  },
  {
   "cell_type": "code",
   "execution_count": 8,
   "id": "e83c8385",
   "metadata": {},
   "outputs": [
    {
     "ename": "SyntaxError",
     "evalue": "'return' outside function (Temp/ipykernel_6360/2181586489.py, line 1)",
     "output_type": "error",
     "traceback": [
      "\u001b[1;36m  File \u001b[1;32m\"C:\\Users\\Satyam\\AppData\\Local\\Temp/ipykernel_6360/2181586489.py\"\u001b[1;36m, line \u001b[1;32m1\u001b[0m\n\u001b[1;33m    return (\"hello\")\u001b[0m\n\u001b[1;37m    ^\u001b[0m\n\u001b[1;31mSyntaxError\u001b[0m\u001b[1;31m:\u001b[0m 'return' outside function\n"
     ]
    }
   ],
   "source": [
    "return (\"hello\")"
   ]
  },
  {
   "cell_type": "code",
   "execution_count": 23,
   "id": "f9830e51",
   "metadata": {},
   "outputs": [],
   "source": [
    "def add(x,y):\n",
    "    z = x+y\n",
    "#     return z\n",
    "\n",
    "    print(z)\n",
    "    "
   ]
  },
  {
   "cell_type": "code",
   "execution_count": 24,
   "id": "e56724c5",
   "metadata": {},
   "outputs": [
    {
     "data": {
      "text/plain": [
       "7"
      ]
     },
     "execution_count": 24,
     "metadata": {},
     "output_type": "execute_result"
    }
   ],
   "source": [
    "add(3,4)"
   ]
  },
  {
   "cell_type": "code",
   "execution_count": 25,
   "id": "492c6ed6",
   "metadata": {},
   "outputs": [
    {
     "name": "stdout",
     "output_type": "stream",
     "text": [
      "python\n"
     ]
    }
   ],
   "source": [
    "print('python')"
   ]
  },
  {
   "cell_type": "code",
   "execution_count": 26,
   "id": "a6602a19",
   "metadata": {},
   "outputs": [
    {
     "ename": "SyntaxError",
     "evalue": "'return' outside function (Temp/ipykernel_6360/170308550.py, line 1)",
     "output_type": "error",
     "traceback": [
      "\u001b[1;36m  File \u001b[1;32m\"C:\\Users\\Satyam\\AppData\\Local\\Temp/ipykernel_6360/170308550.py\"\u001b[1;36m, line \u001b[1;32m1\u001b[0m\n\u001b[1;33m    return('python')\u001b[0m\n\u001b[1;37m    ^\u001b[0m\n\u001b[1;31mSyntaxError\u001b[0m\u001b[1;31m:\u001b[0m 'return' outside function\n"
     ]
    }
   ],
   "source": [
    "return('python')"
   ]
  },
  {
   "cell_type": "code",
   "execution_count": 27,
   "id": "642ab295",
   "metadata": {},
   "outputs": [
    {
     "data": {
      "text/plain": [
       "8"
      ]
     },
     "execution_count": 27,
     "metadata": {},
     "output_type": "execute_result"
    }
   ],
   "source": [
    "# no arg with return\n",
    "def add():\n",
    "    a=3\n",
    "    b=5\n",
    "    return (a+b)\n",
    "add()"
   ]
  },
  {
   "cell_type": "code",
   "execution_count": null,
   "id": "627299c2",
   "metadata": {},
   "outputs": [],
   "source": []
  },
  {
   "cell_type": "code",
   "execution_count": null,
   "id": "2d96727f",
   "metadata": {},
   "outputs": [],
   "source": []
  },
  {
   "cell_type": "code",
   "execution_count": null,
   "id": "5e060ddd",
   "metadata": {},
   "outputs": [],
   "source": []
  },
  {
   "cell_type": "code",
   "execution_count": null,
   "id": "1249bb69",
   "metadata": {},
   "outputs": [],
   "source": []
  },
  {
   "cell_type": "code",
   "execution_count": null,
   "id": "d97c6638",
   "metadata": {},
   "outputs": [],
   "source": []
  },
  {
   "cell_type": "code",
   "execution_count": null,
   "id": "e93347ea",
   "metadata": {},
   "outputs": [],
   "source": []
  },
  {
   "cell_type": "code",
   "execution_count": null,
   "id": "9d3a72e5",
   "metadata": {},
   "outputs": [],
   "source": []
  },
  {
   "cell_type": "code",
   "execution_count": 4,
   "id": "00f4aea7",
   "metadata": {},
   "outputs": [
    {
     "name": "stdout",
     "output_type": "stream",
     "text": [
      "Good morning!!\n"
     ]
    }
   ],
   "source": [
    "hello()"
   ]
  },
  {
   "cell_type": "code",
   "execution_count": null,
   "id": "11550047",
   "metadata": {},
   "outputs": [],
   "source": []
  }
 ],
 "metadata": {
  "kernelspec": {
   "display_name": "Python 3 (ipykernel)",
   "language": "python",
   "name": "python3"
  },
  "language_info": {
   "codemirror_mode": {
    "name": "ipython",
    "version": 3
   },
   "file_extension": ".py",
   "mimetype": "text/x-python",
   "name": "python",
   "nbconvert_exporter": "python",
   "pygments_lexer": "ipython3",
   "version": "3.9.7"
  }
 },
 "nbformat": 4,
 "nbformat_minor": 5
}
