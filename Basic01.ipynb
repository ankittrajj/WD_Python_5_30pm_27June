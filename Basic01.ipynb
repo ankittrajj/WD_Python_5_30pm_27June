{
 "cells": [
  {
   "cell_type": "code",
   "execution_count": 12,
   "id": "a0334dcd",
   "metadata": {},
   "outputs": [
    {
     "name": "stdout",
     "output_type": "stream",
     "text": [
      "hello world bhjfdyausfgbuigr786rf787563e567ydfyutfyuvgfhjbvghjghjghjgjgjgjhgjhgfhjfcfghvhjvgjgjfjghjgjhfkjgjhgjfhjgjhghjgjfhjgghjgfkjfhjghjghjfhjghjgjhfjhgkjgfkjgkjfffhjgkjfkjhgfhjfgfhjgjkdf\n"
     ]
    }
   ],
   "source": [
    "print('hello world bhjfdyausfgbuigr786rf787563e567ydfyutfyuvgfhjbvghjghjghjgjgjgjhgjhgfhjfcfghvhjvgjgjfjghjgjhfkjgjhgjfhjgjhghjgjfhjgghjgfkjfhjghjghjfhjghjgjhfjhgkjgfkjgkjfffhjgkjfkjhgfhjfgfhjgjkdf')"
   ]
  },
  {
   "cell_type": "code",
   "execution_count": 8,
   "id": "82986ba8",
   "metadata": {},
   "outputs": [
    {
     "name": "stdout",
     "output_type": "stream",
     "text": [
      "hello world\n"
     ]
    }
   ],
   "source": [
    "print(\"hello world\")"
   ]
  },
  {
   "cell_type": "code",
   "execution_count": 9,
   "id": "8cfc5249",
   "metadata": {},
   "outputs": [
    {
     "ename": "SyntaxError",
     "evalue": "invalid syntax (Temp/ipykernel_9900/3435484128.py, line 1)",
     "output_type": "error",
     "traceback": [
      "\u001b[1;36m  File \u001b[1;32m\"C:\\Users\\Satyam\\AppData\\Local\\Temp/ipykernel_9900/3435484128.py\"\u001b[1;36m, line \u001b[1;32m1\u001b[0m\n\u001b[1;33m    print('Ram's book')\u001b[0m\n\u001b[1;37m               ^\u001b[0m\n\u001b[1;31mSyntaxError\u001b[0m\u001b[1;31m:\u001b[0m invalid syntax\n"
     ]
    }
   ],
   "source": [
    "print('Ram's book')"
   ]
  },
  {
   "cell_type": "code",
   "execution_count": 15,
   "id": "b0d8effe",
   "metadata": {},
   "outputs": [
    {
     "ename": "SyntaxError",
     "evalue": "EOL while scanning string literal (Temp/ipykernel_9900/3599053995.py, line 1)",
     "output_type": "error",
     "traceback": [
      "\u001b[1;36m  File \u001b[1;32m\"C:\\Users\\Satyam\\AppData\\Local\\Temp/ipykernel_9900/3599053995.py\"\u001b[1;36m, line \u001b[1;32m1\u001b[0m\n\u001b[1;33m    print(\"Ram's\u001b[0m\n\u001b[1;37m                ^\u001b[0m\n\u001b[1;31mSyntaxError\u001b[0m\u001b[1;31m:\u001b[0m EOL while scanning string literal\n"
     ]
    }
   ],
   "source": [
    "print(\"Ram's book\")"
   ]
  },
  {
   "cell_type": "code",
   "execution_count": 14,
   "id": "a55d75a1",
   "metadata": {},
   "outputs": [
    {
     "name": "stdout",
     "output_type": "stream",
     "text": [
      "hello \n",
      "world\n",
      "hello\n",
      "bhai\n"
     ]
    }
   ],
   "source": [
    "print('''hello \n",
    "world\n",
    "hello\n",
    "bhai''')"
   ]
  },
  {
   "cell_type": "code",
   "execution_count": null,
   "id": "d4c94285",
   "metadata": {},
   "outputs": [],
   "source": []
  }
 ],
 "metadata": {
  "kernelspec": {
   "display_name": "Python 3 (ipykernel)",
   "language": "python",
   "name": "python3"
  },
  "language_info": {
   "codemirror_mode": {
    "name": "ipython",
    "version": 3
   },
   "file_extension": ".py",
   "mimetype": "text/x-python",
   "name": "python",
   "nbconvert_exporter": "python",
   "pygments_lexer": "ipython3",
   "version": "3.9.7"
  }
 },
 "nbformat": 4,
 "nbformat_minor": 5
}
