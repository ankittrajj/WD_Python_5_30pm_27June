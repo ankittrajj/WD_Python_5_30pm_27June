{
 "cells": [
  {
   "cell_type": "code",
   "execution_count": 3,
   "id": "28d9a632",
   "metadata": {},
   "outputs": [
    {
     "name": "stdout",
     "output_type": "stream",
     "text": [
      "<__main__.x object at 0x000001BD5480A6D0>\n"
     ]
    },
    {
     "data": {
      "text/plain": [
       "9"
      ]
     },
     "execution_count": 3,
     "metadata": {},
     "output_type": "execute_result"
    }
   ],
   "source": [
    "#wap to make a variable inside a oops and try to get the output!!.\n",
    "\n",
    "class x:\n",
    "    a = 9\n",
    "    \n",
    "    \n",
    "print(x())\n",
    "x().a"
   ]
  },
  {
   "cell_type": "code",
   "execution_count": 6,
   "id": "39a2aee0",
   "metadata": {},
   "outputs": [],
   "source": [
    "johhny_bhai = x()"
   ]
  },
  {
   "cell_type": "code",
   "execution_count": 7,
   "id": "1a48a9a5",
   "metadata": {},
   "outputs": [
    {
     "data": {
      "text/plain": [
       "9"
      ]
     },
     "execution_count": 7,
     "metadata": {},
     "output_type": "execute_result"
    }
   ],
   "source": [
    "johhny_bhai.a"
   ]
  },
  {
   "cell_type": "code",
   "execution_count": 9,
   "id": "2b8c47cb",
   "metadata": {},
   "outputs": [
    {
     "name": "stdout",
     "output_type": "stream",
     "text": [
      "hello I am inside oops\n"
     ]
    }
   ],
   "source": [
    "#wap and make a function inside a oops try to get the output.\n",
    "\n",
    "class function:\n",
    "    def fun(self):\n",
    "        print(\"hello I am inside oops\")\n",
    "    \n",
    "    \n",
    "f = function()\n",
    "f.fun()\n"
   ]
  },
  {
   "cell_type": "code",
   "execution_count": 11,
   "id": "955adb0e",
   "metadata": {},
   "outputs": [
    {
     "data": {
      "text/plain": [
       "11"
      ]
     },
     "execution_count": 11,
     "metadata": {},
     "output_type": "execute_result"
    }
   ],
   "source": [
    "class add:\n",
    "    def fun(self,x,y):\n",
    "        result = x+y\n",
    "        return result\n",
    "    \n",
    "    \n",
    "a = add()\n",
    "a.fun(3,8)"
   ]
  },
  {
   "cell_type": "code",
   "execution_count": 14,
   "id": "13b821f4",
   "metadata": {},
   "outputs": [
    {
     "data": {
      "text/plain": [
       "83"
      ]
     },
     "execution_count": 14,
     "metadata": {},
     "output_type": "execute_result"
    }
   ],
   "source": [
    "class add:\n",
    "    def fun(selfie,x,y):\n",
    "        result = x+y\n",
    "        return result\n",
    "    \n",
    "    \n",
    "a = add()\n",
    "a.fun(3,80)"
   ]
  },
  {
   "cell_type": "code",
   "execution_count": 15,
   "id": "16a22d1d",
   "metadata": {},
   "outputs": [
    {
     "data": {
      "text/plain": [
       "90"
      ]
     },
     "execution_count": 15,
     "metadata": {},
     "output_type": "execute_result"
    }
   ],
   "source": [
    "#wap to make a variable & a function inside oops and try to get the output.\n",
    "class c :\n",
    "    a = 90\n",
    "    def fun(self):\n",
    "        print(\"function\")\n",
    "        \n",
    "x = c()\n",
    "x.a"
   ]
  },
  {
   "cell_type": "code",
   "execution_count": 16,
   "id": "674edaaf",
   "metadata": {},
   "outputs": [
    {
     "name": "stdout",
     "output_type": "stream",
     "text": [
      "function\n"
     ]
    }
   ],
   "source": [
    "x.fun()"
   ]
  },
  {
   "cell_type": "code",
   "execution_count": 17,
   "id": "f1329eb8",
   "metadata": {},
   "outputs": [],
   "source": [
    "# function----- optimized \n",
    "# constructor-----> to escape from function.\n",
    "# like function but ------> no need to call the constructor.\n",
    "\n",
    "\n"
   ]
  },
  {
   "cell_type": "code",
   "execution_count": 18,
   "id": "37e41b79",
   "metadata": {},
   "outputs": [
    {
     "data": {
      "text/plain": [
       "'A'"
      ]
     },
     "execution_count": 18,
     "metadata": {},
     "output_type": "execute_result"
    }
   ],
   "source": [
    "class emp:\n",
    "    def __init__(self,name,salary):\n",
    "        self.name = name\n",
    "        self.salary = salary\n",
    "        \n",
    "        \n",
    "e = emp(\"A\",78000)\n",
    "e.name\n",
    "        "
   ]
  },
  {
   "cell_type": "code",
   "execution_count": 19,
   "id": "d9b111b5",
   "metadata": {},
   "outputs": [
    {
     "data": {
      "text/plain": [
       "78000"
      ]
     },
     "execution_count": 19,
     "metadata": {},
     "output_type": "execute_result"
    }
   ],
   "source": [
    "e.salary"
   ]
  },
  {
   "cell_type": "code",
   "execution_count": 22,
   "id": "56108077",
   "metadata": {},
   "outputs": [
    {
     "data": {
      "text/plain": [
       "'A'"
      ]
     },
     "execution_count": 22,
     "metadata": {},
     "output_type": "execute_result"
    }
   ],
   "source": [
    "emp(\"A\",67).name"
   ]
  },
  {
   "cell_type": "markdown",
   "id": "a3ba98a5",
   "metadata": {},
   "source": [
    "# Inheritance"
   ]
  },
  {
   "cell_type": "code",
   "execution_count": 26,
   "id": "e376496c",
   "metadata": {},
   "outputs": [
    {
     "data": {
      "text/plain": [
       "'A'"
      ]
     },
     "execution_count": 26,
     "metadata": {},
     "output_type": "execute_result"
    }
   ],
   "source": [
    "class parent:\n",
    "    def __init__(self,name,age):\n",
    "        self.name = name\n",
    "        self.age = age\n",
    "        \n",
    "    \n",
    "class child(parent):\n",
    "    def __init__(self,name,age,marks):\n",
    "        parent.__init__(self,name,age)\n",
    "        self.marks = marks\n",
    "        \n",
    "        \n",
    "        \n",
    "\n",
    "c = child(\"A\",56,90)\n",
    "c.name\n",
    "    "
   ]
  },
  {
   "cell_type": "code",
   "execution_count": 27,
   "id": "40fdc619",
   "metadata": {},
   "outputs": [
    {
     "data": {
      "text/plain": [
       "90"
      ]
     },
     "execution_count": 27,
     "metadata": {},
     "output_type": "execute_result"
    }
   ],
   "source": [
    "c.marks"
   ]
  },
  {
   "cell_type": "code",
   "execution_count": 28,
   "id": "b0e3ea4b",
   "metadata": {},
   "outputs": [
    {
     "data": {
      "text/plain": [
       "56"
      ]
     },
     "execution_count": 28,
     "metadata": {},
     "output_type": "execute_result"
    }
   ],
   "source": [
    "c.age"
   ]
  },
  {
   "cell_type": "code",
   "execution_count": 30,
   "id": "010872c8",
   "metadata": {},
   "outputs": [
    {
     "data": {
      "text/plain": [
       "('A', 56, 90)"
      ]
     },
     "execution_count": 30,
     "metadata": {},
     "output_type": "execute_result"
    }
   ],
   "source": [
    "c.name,c.age,c.marks"
   ]
  },
  {
   "cell_type": "code",
   "execution_count": 32,
   "id": "085490e5",
   "metadata": {},
   "outputs": [
    {
     "data": {
      "text/plain": [
       "'A'"
      ]
     },
     "execution_count": 32,
     "metadata": {},
     "output_type": "execute_result"
    }
   ],
   "source": [
    "class parent:\n",
    "    def __init__(self,name,age):\n",
    "        self.name = name\n",
    "        self.age = age\n",
    "        \n",
    "    \n",
    "class child(parent):\n",
    "    def __init__(self,name,age,marks):\n",
    "        super().__init__(name,age)\n",
    "        self.marks = marks\n",
    "        \n",
    "        \n",
    "        \n",
    "\n",
    "c = child(\"A\",56,90)\n",
    "c.name"
   ]
  },
  {
   "cell_type": "code",
   "execution_count": 33,
   "id": "fbf02086",
   "metadata": {},
   "outputs": [],
   "source": [
    "class parent:\n",
    "    def __init__(self,name,age):\n",
    "        self.name = name\n",
    "        self.age = age\n",
    "        \n",
    "        \n",
    "        \n",
    "class child(parent):\n",
    "    def __init__(self,name,age,salary):\n",
    "        super().__init__(name,age)\n",
    "        self.salary = salary\n",
    "        \n",
    "        \n",
    "c = child(\"A\",23,90000)"
   ]
  },
  {
   "cell_type": "code",
   "execution_count": 34,
   "id": "2e616acc",
   "metadata": {},
   "outputs": [
    {
     "data": {
      "text/plain": [
       "'A'"
      ]
     },
     "execution_count": 34,
     "metadata": {},
     "output_type": "execute_result"
    }
   ],
   "source": [
    "c.name"
   ]
  },
  {
   "cell_type": "code",
   "execution_count": 35,
   "id": "a67dbcb0",
   "metadata": {},
   "outputs": [
    {
     "data": {
      "text/plain": [
       "23"
      ]
     },
     "execution_count": 35,
     "metadata": {},
     "output_type": "execute_result"
    }
   ],
   "source": [
    "c.age"
   ]
  },
  {
   "cell_type": "code",
   "execution_count": 36,
   "id": "74e8f8ac",
   "metadata": {},
   "outputs": [
    {
     "data": {
      "text/plain": [
       "90000"
      ]
     },
     "execution_count": 36,
     "metadata": {},
     "output_type": "execute_result"
    }
   ],
   "source": [
    "c.salary"
   ]
  },
  {
   "cell_type": "code",
   "execution_count": 38,
   "id": "e43238b9",
   "metadata": {},
   "outputs": [
    {
     "data": {
      "text/plain": [
       "'Alto 800'"
      ]
     },
     "execution_count": 38,
     "metadata": {},
     "output_type": "execute_result"
    }
   ],
   "source": [
    "# wap to inherit a class car from automobile and try to find the \n",
    "# output of the car class attribute.\n",
    "\n",
    "class automobile:\n",
    "    def __init__(self,name):\n",
    "        self.name = name\n",
    "        \n",
    "    \n",
    "class car(automobile):\n",
    "    def __init__(self,name):\n",
    "        super().__init__(name)\n",
    "        \n",
    "        \n",
    "        \n",
    "c = car(\"Alto 800\")\n",
    "c.name"
   ]
  },
  {
   "cell_type": "code",
   "execution_count": null,
   "id": "c74f00ce",
   "metadata": {},
   "outputs": [],
   "source": []
  }
 ],
 "metadata": {
  "kernelspec": {
   "display_name": "Python 3 (ipykernel)",
   "language": "python",
   "name": "python3"
  },
  "language_info": {
   "codemirror_mode": {
    "name": "ipython",
    "version": 3
   },
   "file_extension": ".py",
   "mimetype": "text/x-python",
   "name": "python",
   "nbconvert_exporter": "python",
   "pygments_lexer": "ipython3",
   "version": "3.9.7"
  }
 },
 "nbformat": 4,
 "nbformat_minor": 5
}
