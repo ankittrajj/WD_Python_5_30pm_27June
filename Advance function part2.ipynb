{
 "cells": [
  {
   "cell_type": "code",
   "execution_count": 8,
   "id": "cecc4489",
   "metadata": {},
   "outputs": [
    {
     "data": {
      "text/plain": [
       "'Even'"
      ]
     },
     "execution_count": 8,
     "metadata": {},
     "output_type": "execute_result"
    }
   ],
   "source": [
    "# find odd & even number with the help of lambda function.\n",
    "\n",
    "\n",
    "\n",
    "# a = 89\n",
    "b = lambda a:'Even' if a%2==0 else 'Odd'\n",
    "b(30)"
   ]
  },
  {
   "cell_type": "code",
   "execution_count": 11,
   "id": "a62769da",
   "metadata": {},
   "outputs": [
    {
     "name": "stdout",
     "output_type": "stream",
     "text": [
      "78\n",
      "90\n",
      "88\n",
      "340\n",
      "65\n"
     ]
    }
   ],
   "source": [
    "# Filter\n",
    "# Map\n",
    "# Reduce\n",
    "\n",
    "# Filter ----- > IG,Camera,Filter.....>\n",
    "# data quality increase\n",
    "\n",
    "\n",
    "# data read -----> data quality increase!!!\n",
    "# 10k-----> youtube -----> 60+ ---- > comedy, songs, \n",
    "# filter out senior citizen-----> \n",
    "\n",
    "\n",
    "\n",
    "# list / tuple -----> \n",
    " \n",
    "x = [34,78,90,45,23,-12,88,340,56,12,10,65]\n",
    "for i in x:\n",
    "    if i>60:\n",
    "        print(i)\n",
    "    \n"
   ]
  },
  {
   "cell_type": "code",
   "execution_count": 12,
   "id": "655818c3",
   "metadata": {},
   "outputs": [
    {
     "data": {
      "text/plain": [
       "[34, 78, 90, 45, 23, -12, 88, 340, 56, 12, 10, 65]"
      ]
     },
     "execution_count": 12,
     "metadata": {},
     "output_type": "execute_result"
    }
   ],
   "source": [
    "# filter function ------> \n",
    "x "
   ]
  },
  {
   "cell_type": "code",
   "execution_count": 17,
   "id": "dc858d82",
   "metadata": {},
   "outputs": [
    {
     "data": {
      "text/plain": [
       "[78, 90, 88, 340, 65]"
      ]
     },
     "execution_count": 17,
     "metadata": {},
     "output_type": "execute_result"
    }
   ],
   "source": [
    "list(filter(lambda x:True if x>60 else False,x))"
   ]
  },
  {
   "cell_type": "code",
   "execution_count": 18,
   "id": "9657d7eb",
   "metadata": {},
   "outputs": [
    {
     "data": {
      "text/plain": [
       "[34, 78, 90, 45, 23, -12, 88, 340, 56, 12, 10, 65]"
      ]
     },
     "execution_count": 18,
     "metadata": {},
     "output_type": "execute_result"
    }
   ],
   "source": [
    "x"
   ]
  },
  {
   "cell_type": "code",
   "execution_count": 23,
   "id": "3186f177",
   "metadata": {},
   "outputs": [],
   "source": [
    "z = filter(lambda x:True if x>60 else False,x)"
   ]
  },
  {
   "cell_type": "code",
   "execution_count": 24,
   "id": "032fe814",
   "metadata": {},
   "outputs": [
    {
     "name": "stdout",
     "output_type": "stream",
     "text": [
      "<filter object at 0x000001ECDBD0BD30>\n"
     ]
    }
   ],
   "source": [
    "print(z)"
   ]
  },
  {
   "cell_type": "code",
   "execution_count": 25,
   "id": "4d7f2ec1",
   "metadata": {},
   "outputs": [
    {
     "data": {
      "text/plain": [
       "(78, 90, 88, 340, 65)"
      ]
     },
     "execution_count": 25,
     "metadata": {},
     "output_type": "execute_result"
    }
   ],
   "source": [
    "tuple(z)"
   ]
  },
  {
   "cell_type": "code",
   "execution_count": 31,
   "id": "34fa604f",
   "metadata": {},
   "outputs": [
    {
     "data": {
      "text/plain": [
       "[78, 90, 88, 340, 65]"
      ]
     },
     "execution_count": 31,
     "metadata": {},
     "output_type": "execute_result"
    }
   ],
   "source": [
    "x = [34,78,90,45,23,-12,88,340,56,12,10,65]\n",
    "\n",
    "def fun(x):\n",
    "    if x>60:\n",
    "        return True\n",
    "    else:\n",
    "        return False\n",
    "list(filter(fun,x))"
   ]
  },
  {
   "cell_type": "code",
   "execution_count": 34,
   "id": "da3abc77",
   "metadata": {},
   "outputs": [
    {
     "data": {
      "text/plain": [
       "[1, 4, 9, 16]"
      ]
     },
     "execution_count": 34,
     "metadata": {},
     "output_type": "execute_result"
    }
   ],
   "source": [
    "# Map function -----> \n",
    "\n",
    "a = [1,2,3,4]\n",
    "list(map(lambda a:a**2,a))"
   ]
  },
  {
   "cell_type": "code",
   "execution_count": 35,
   "id": "d8f80b33",
   "metadata": {},
   "outputs": [
    {
     "data": {
      "text/plain": [
       "[1, 2, 3, 4]"
      ]
     },
     "execution_count": 35,
     "metadata": {},
     "output_type": "execute_result"
    }
   ],
   "source": [
    "a"
   ]
  },
  {
   "cell_type": "code",
   "execution_count": 37,
   "id": "a954b4cd",
   "metadata": {},
   "outputs": [
    {
     "data": {
      "text/plain": [
       "[1, 4, 9, 16]"
      ]
     },
     "execution_count": 37,
     "metadata": {},
     "output_type": "execute_result"
    }
   ],
   "source": [
    "a=[1,2,3,4]\n",
    "def fun(a):\n",
    "    return a**2\n",
    "\n",
    "list(map(fun,a))"
   ]
  },
  {
   "cell_type": "markdown",
   "id": "435c0bf2",
   "metadata": {},
   "source": [
    "# Reduce Function\n"
   ]
  },
  {
   "cell_type": "code",
   "execution_count": 38,
   "id": "a5a54f27",
   "metadata": {},
   "outputs": [],
   "source": [
    "from functools import reduce\n"
   ]
  },
  {
   "cell_type": "code",
   "execution_count": 39,
   "id": "daa8ad4e",
   "metadata": {},
   "outputs": [
    {
     "data": {
      "text/plain": [
       "10"
      ]
     },
     "execution_count": 39,
     "metadata": {},
     "output_type": "execute_result"
    }
   ],
   "source": [
    "a = [1,2,3,4]\n",
    "reduce(lambda x,y:x+y,a)"
   ]
  },
  {
   "cell_type": "code",
   "execution_count": null,
   "id": "5db71081",
   "metadata": {},
   "outputs": [],
   "source": []
  }
 ],
 "metadata": {
  "kernelspec": {
   "display_name": "Python 3 (ipykernel)",
   "language": "python",
   "name": "python3"
  },
  "language_info": {
   "codemirror_mode": {
    "name": "ipython",
    "version": 3
   },
   "file_extension": ".py",
   "mimetype": "text/x-python",
   "name": "python",
   "nbconvert_exporter": "python",
   "pygments_lexer": "ipython3",
   "version": "3.9.7"
  }
 },
 "nbformat": 4,
 "nbformat_minor": 5
}
